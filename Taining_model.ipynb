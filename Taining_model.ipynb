{
 "cells": [
  {
   "cell_type": "code",
   "execution_count": 1,
   "id": "d036c8c7-0655-46f0-a45f-3ba5a72d312c",
   "metadata": {},
   "outputs": [],
   "source": [
    "#Creatinng known paramaeteter data"
   ]
  },
  {
   "cell_type": "code",
   "execution_count": 2,
   "id": "3d7186a2-e47e-4baf-82a5-394f6c234bee",
   "metadata": {},
   "outputs": [],
   "source": [
    "import torch\n",
    "import numpy as np\n",
    "from torch import nn\n",
    "import matplotlib.pyplot as plt\n",
    "from pathlib import Path"
   ]
  },
  {
   "cell_type": "code",
   "execution_count": 3,
   "id": "cb67b76d-d47b-4c3c-9139-5476f892d443",
   "metadata": {},
   "outputs": [],
   "source": [
    "weight=0.7\n",
    "bias=0.3"
   ]
  },
  {
   "cell_type": "code",
   "execution_count": 4,
   "id": "5001242e-5832-4ce3-9dc0-4f02f200b973",
   "metadata": {},
   "outputs": [],
   "source": [
    "start=0\n",
    "stop=1\n",
    "step=0.002"
   ]
  },
  {
   "cell_type": "code",
   "execution_count": 5,
   "id": "347a71e5-4a28-4240-8837-af785d5afe4b",
   "metadata": {},
   "outputs": [
    {
     "data": {
      "text/plain": [
       "500"
      ]
     },
     "execution_count": 5,
     "metadata": {},
     "output_type": "execute_result"
    }
   ],
   "source": [
    "X=torch.arange(start,stop, step)\n",
    "len(X)"
   ]
  },
  {
   "cell_type": "code",
   "execution_count": 6,
   "id": "8fff4e6b-1f25-41b0-8116-1acfda4a97b4",
   "metadata": {},
   "outputs": [
    {
     "data": {
      "text/plain": [
       "500"
      ]
     },
     "execution_count": 6,
     "metadata": {},
     "output_type": "execute_result"
    }
   ],
   "source": [
    "y=weight * X + bias\n",
    "len(y)"
   ]
  },
  {
   "cell_type": "code",
   "execution_count": 7,
   "id": "43831694-981b-4e0b-86df-07688b7ff432",
   "metadata": {},
   "outputs": [
    {
     "data": {
      "text/plain": [
       "(tensor([0.0000, 0.0020, 0.0040, 0.0060, 0.0080, 0.0100, 0.0120, 0.0140, 0.0160,\n",
       "         0.0180]),\n",
       " tensor([0.3000, 0.3014, 0.3028, 0.3042, 0.3056, 0.3070, 0.3084, 0.3098, 0.3112,\n",
       "         0.3126]))"
      ]
     },
     "execution_count": 7,
     "metadata": {},
     "output_type": "execute_result"
    }
   ],
   "source": [
    "X[:10],y[:10]"
   ]
  },
  {
   "cell_type": "code",
   "execution_count": 8,
   "id": "0fdaedc2-3f0e-4efd-9703-ad5bdf62b3de",
   "metadata": {},
   "outputs": [],
   "source": [
    "#Splitting the data in training and testing\n",
    "#We can also used train_test_split method of sklearn"
   ]
  },
  {
   "cell_type": "code",
   "execution_count": 9,
   "id": "026424a6-34d4-489e-9d7e-eaf4a1861089",
   "metadata": {},
   "outputs": [
    {
     "data": {
      "text/plain": [
       "(400, 400, 100, 100)"
      ]
     },
     "execution_count": 9,
     "metadata": {},
     "output_type": "execute_result"
    }
   ],
   "source": [
    "train_split=int(0.8 * len(X))\n",
    "X_train, y_train=X[:train_split], y[:train_split]\n",
    "X_test, y_test=X[train_split:], y[train_split:]\n",
    "len(X_train), len(y_train), len(X_test), len(y_test)"
   ]
  },
  {
   "cell_type": "code",
   "execution_count": 10,
   "id": "8fa713cb-604c-4bbd-9c7f-7ebf7ed53669",
   "metadata": {},
   "outputs": [],
   "source": [
    "#for plotting"
   ]
  },
  {
   "cell_type": "code",
   "execution_count": 11,
   "id": "2daef6c8-7590-43b9-a5a6-aa53737237f6",
   "metadata": {},
   "outputs": [],
   "source": [
    "def plot_predictions(train_data=X_train, \n",
    "                     train_labels=y_train, \n",
    "                     test_data=X_test, \n",
    "                     test_labels=y_test, \n",
    "                     predictions=None):\n",
    "    plt.figure(figsize=(18, 5))\n",
    "    \n",
    "    plt.scatter(train_data, train_labels, c=\"b\", s=2, label=\"Training data\")\n",
    "    plt.scatter(test_data, test_labels, c=\"g\", s=2, label=\"Testing data\")\n",
    "\n",
    "    if predictions is not None:\n",
    "      plt.scatter(test_data, predictions, c=\"r\", s=2, label=\"Predictions\")\n",
    "    plt.legend(prop={\"size\": 12});"
   ]
  },
  {
   "cell_type": "code",
   "execution_count": 12,
   "id": "7a873850-1fb5-4918-a390-7470e5c5de95",
   "metadata": {},
   "outputs": [
    {
     "data": {
      "image/png": "[encoded data removed]",
      "text/plain": [
       "<Figure size 1800x500 with 1 Axes>"
      ]
     },
     "metadata": {},
     "output_type": "display_data"
    }
   ],
   "source": [
    "plot_predictions()"
   ]
  },
  {
   "cell_type": "code",
   "execution_count": 13,
   "id": "7805956e-9471-4c2d-bc50-72fb944dd5bb",
   "metadata": {},
   "outputs": [],
   "source": [
    "#Building the Model (Linear Regression)"
   ]
  },
  {
   "cell_type": "code",
   "execution_count": 14,
   "id": "ef9a5bb8-1feb-4194-a44a-af4d2d013c7d",
   "metadata": {},
   "outputs": [],
   "source": [
    "class LinearRegressionModel(nn.Module):\n",
    "    def __init__(self):\n",
    "        super().__init__()\n",
    "        self.weights=nn.Parameter(torch.randn(1, dtype=torch.float),requires_grad=True)\n",
    "        self.bias=nn.Parameter(torch.randn(1, dtype=torch.float),requires_grad=True)\n",
    "    def forward(self, x:torch.Tensor)->torch.Tensor:\n",
    "        return self.weights * x + self.bias"
   ]
  },
  {
   "cell_type": "code",
   "execution_count": 15,
   "id": "de7f547c-790f-42fa-984e-beba0c634fb1",
   "metadata": {},
   "outputs": [],
   "source": [
    "#checking the content of model"
   ]
  },
  {
   "cell_type": "code",
   "execution_count": 16,
   "id": "bb350260-2a5c-4c7d-8587-8af8da054dc8",
   "metadata": {},
   "outputs": [
    {
     "data": {
      "text/plain": [
       "[Parameter containing:\n",
       " tensor([0.3367], requires_grad=True),\n",
       " Parameter containing:\n",
       " tensor([0.1288], requires_grad=True)]"
      ]
     },
     "execution_count": 16,
     "metadata": {},
     "output_type": "execute_result"
    }
   ],
   "source": [
    "torch.manual_seed(42)\n",
    "model_lr=LinearRegressionModel()\n",
    "list(model_lr.parameters())"
   ]
  },
  {
   "cell_type": "code",
   "execution_count": 17,
   "id": "2e3f53c3-9269-4732-af66-e455f469af11",
   "metadata": {},
   "outputs": [
    {
     "data": {
      "text/plain": [
       "OrderedDict([('weights', tensor([0.3367])), ('bias', tensor([0.1288]))])"
      ]
     },
     "execution_count": 17,
     "metadata": {},
     "output_type": "execute_result"
    }
   ],
   "source": [
    "model_lr.state_dict()"
   ]
  },
  {
   "cell_type": "code",
   "execution_count": 18,
   "id": "4b49c1c7-2313-42a2-b227-ced7c3ed5449",
   "metadata": {},
   "outputs": [],
   "source": [
    "#using torch inference model to predict"
   ]
  },
  {
   "cell_type": "code",
   "execution_count": 19,
   "id": "f1939e53-a28a-40fc-8546-7040d55dc835",
   "metadata": {},
   "outputs": [],
   "source": [
    "with torch.inference_mode():\n",
    "    y_preds=model_lr(X_test)"
   ]
  },
  {
   "cell_type": "code",
   "execution_count": 20,
   "id": "719b0796-62f0-4b74-b65f-ebfdbb7e047a",
   "metadata": {},
   "outputs": [
    {
     "data": {
      "text/plain": [
       "tensor([0.3982, 0.3988, 0.3995, 0.4002, 0.4009, 0.4015, 0.4022, 0.4029, 0.4035,\n",
       "        0.4042, 0.4049, 0.4056, 0.4062, 0.4069, 0.4076, 0.4083, 0.4089, 0.4096,\n",
       "        0.4103, 0.4110, 0.4116, 0.4123, 0.4130, 0.4136, 0.4143, 0.4150, 0.4157,\n",
       "        0.4163, 0.4170, 0.4177, 0.4184, 0.4190, 0.4197, 0.4204, 0.4211, 0.4217,\n",
       "        0.4224, 0.4231, 0.4238, 0.4244, 0.4251, 0.4258, 0.4264, 0.4271, 0.4278,\n",
       "        0.4285, 0.4291, 0.4298, 0.4305, 0.4312, 0.4318, 0.4325, 0.4332, 0.4339,\n",
       "        0.4345, 0.4352, 0.4359, 0.4365, 0.4372, 0.4379, 0.4386, 0.4392, 0.4399,\n",
       "        0.4406, 0.4413, 0.4419, 0.4426, 0.4433, 0.4440, 0.4446, 0.4453, 0.4460,\n",
       "        0.4466, 0.4473, 0.4480, 0.4487, 0.4493, 0.4500, 0.4507, 0.4514, 0.4520,\n",
       "        0.4527, 0.4534, 0.4541, 0.4547, 0.4554, 0.4561, 0.4567, 0.4574, 0.4581,\n",
       "        0.4588, 0.4594, 0.4601, 0.4608, 0.4615, 0.4621, 0.4628, 0.4635, 0.4642,\n",
       "        0.4648])"
      ]
     },
     "execution_count": 20,
     "metadata": {},
     "output_type": "execute_result"
    }
   ],
   "source": [
    "y_preds"
   ]
  },
  {
   "cell_type": "code",
   "execution_count": 21,
   "id": "3f2829a7-9e90-45b3-bff7-cab6aff61671",
   "metadata": {},
   "outputs": [
    {
     "name": "stdout",
     "output_type": "stream",
     "text": [
      "100\n",
      "100\n"
     ]
    }
   ],
   "source": [
    "print(len(X_test)),\n",
    "print(len(y_preds))"
   ]
  },
  {
   "cell_type": "code",
   "execution_count": 22,
   "id": "af97cade-fda2-4c16-8f57-7f4344d1b3ce",
   "metadata": {},
   "outputs": [
    {
     "data": {
      "image/png": "[encoded data removed]",
      "text/plain": [
       "<Figure size 1800x500 with 1 Axes>"
      ]
     },
     "metadata": {},
     "output_type": "display_data"
    }
   ],
   "source": [
    "plot_predictions(predictions=y_preds)"
   ]
  },
  {
   "cell_type": "code",
   "execution_count": 23,
   "id": "8fb297f7-d052-40dc-9e3c-a29c6d7cb20b",
   "metadata": {},
   "outputs": [
    {
     "data": {
      "text/plain": [
       "tensor([0.8600, 0.8614, 0.8628, 0.8642, 0.8656, 0.8670, 0.8684, 0.8698, 0.8712,\n",
       "        0.8726, 0.8740, 0.8754, 0.8768, 0.8782, 0.8796, 0.8810, 0.8824, 0.8838,\n",
       "        0.8852, 0.8866, 0.8880, 0.8894, 0.8908, 0.8922, 0.8936, 0.8950, 0.8964,\n",
       "        0.8978, 0.8992, 0.9006, 0.9020, 0.9034, 0.9048, 0.9062, 0.9076, 0.9090,\n",
       "        0.9104, 0.9118, 0.9132, 0.9146, 0.9160, 0.9174, 0.9188, 0.9202, 0.9216,\n",
       "        0.9230, 0.9244, 0.9258, 0.9272, 0.9286, 0.9300, 0.9314, 0.9328, 0.9342,\n",
       "        0.9356, 0.9370, 0.9384, 0.9398, 0.9412, 0.9426, 0.9440, 0.9454, 0.9468,\n",
       "        0.9482, 0.9496, 0.9510, 0.9524, 0.9538, 0.9552, 0.9566, 0.9580, 0.9594,\n",
       "        0.9608, 0.9622, 0.9636, 0.9650, 0.9664, 0.9678, 0.9692, 0.9706, 0.9720,\n",
       "        0.9734, 0.9748, 0.9762, 0.9776, 0.9790, 0.9804, 0.9818, 0.9832, 0.9846,\n",
       "        0.9860, 0.9874, 0.9888, 0.9902, 0.9916, 0.9930, 0.9944, 0.9958, 0.9972,\n",
       "        0.9986])"
      ]
     },
     "execution_count": 23,
     "metadata": {},
     "output_type": "execute_result"
    }
   ],
   "source": [
    "y_test"
   ]
  },
  {
   "cell_type": "code",
   "execution_count": 24,
   "id": "01ea01a7-fb79-41f5-835b-598507861cab",
   "metadata": {},
   "outputs": [
    {
     "data": {
      "text/plain": [
       "tensor([0.3982, 0.3988, 0.3995, 0.4002, 0.4009, 0.4015, 0.4022, 0.4029, 0.4035,\n",
       "        0.4042, 0.4049, 0.4056, 0.4062, 0.4069, 0.4076, 0.4083, 0.4089, 0.4096,\n",
       "        0.4103, 0.4110, 0.4116, 0.4123, 0.4130, 0.4136, 0.4143, 0.4150, 0.4157,\n",
       "        0.4163, 0.4170, 0.4177, 0.4184, 0.4190, 0.4197, 0.4204, 0.4211, 0.4217,\n",
       "        0.4224, 0.4231, 0.4238, 0.4244, 0.4251, 0.4258, 0.4264, 0.4271, 0.4278,\n",
       "        0.4285, 0.4291, 0.4298, 0.4305, 0.4312, 0.4318, 0.4325, 0.4332, 0.4339,\n",
       "        0.4345, 0.4352, 0.4359, 0.4365, 0.4372, 0.4379, 0.4386, 0.4392, 0.4399,\n",
       "        0.4406, 0.4413, 0.4419, 0.4426, 0.4433, 0.4440, 0.4446, 0.4453, 0.4460,\n",
       "        0.4466, 0.4473, 0.4480, 0.4487, 0.4493, 0.4500, 0.4507, 0.4514, 0.4520,\n",
       "        0.4527, 0.4534, 0.4541, 0.4547, 0.4554, 0.4561, 0.4567, 0.4574, 0.4581,\n",
       "        0.4588, 0.4594, 0.4601, 0.4608, 0.4615, 0.4621, 0.4628, 0.4635, 0.4642,\n",
       "        0.4648])"
      ]
     },
     "execution_count": 24,
     "metadata": {},
     "output_type": "execute_result"
    }
   ],
   "source": [
    "y_preds"
   ]
  },
  {
   "cell_type": "code",
   "execution_count": 25,
   "id": "39b9440e-64c6-43e7-850e-d13a94857c69",
   "metadata": {},
   "outputs": [
    {
     "data": {
      "text/plain": [
       "tensor([0.4618, 0.4626, 0.4633, 0.4640, 0.4647, 0.4655, 0.4662, 0.4669, 0.4677,\n",
       "        0.4684, 0.4691, 0.4698, 0.4706, 0.4713, 0.4720, 0.4727, 0.4735, 0.4742,\n",
       "        0.4749, 0.4756, 0.4764, 0.4771, 0.4778, 0.4786, 0.4793, 0.4800, 0.4807,\n",
       "        0.4815, 0.4822, 0.4829, 0.4836, 0.4844, 0.4851, 0.4858, 0.4865, 0.4873,\n",
       "        0.4880, 0.4887, 0.4894, 0.4902, 0.4909, 0.4916, 0.4924, 0.4931, 0.4938,\n",
       "        0.4945, 0.4953, 0.4960, 0.4967, 0.4974, 0.4982, 0.4989, 0.4996, 0.5003,\n",
       "        0.5011, 0.5018, 0.5025, 0.5033, 0.5040, 0.5047, 0.5054, 0.5062, 0.5069,\n",
       "        0.5076, 0.5083, 0.5091, 0.5098, 0.5105, 0.5112, 0.5120, 0.5127, 0.5134,\n",
       "        0.5142, 0.5149, 0.5156, 0.5163, 0.5171, 0.5178, 0.5185, 0.5192, 0.5200,\n",
       "        0.5207, 0.5214, 0.5221, 0.5229, 0.5236, 0.5243, 0.5251, 0.5258, 0.5265,\n",
       "        0.5272, 0.5280, 0.5287, 0.5294, 0.5301, 0.5309, 0.5316, 0.5323, 0.5330,\n",
       "        0.5338])"
      ]
     },
     "execution_count": 25,
     "metadata": {},
     "output_type": "execute_result"
    }
   ],
   "source": [
    "y_test-y_preds"
   ]
  },
  {
   "cell_type": "code",
   "execution_count": 26,
   "id": "ef8678fd-fd6a-4340-80ee-0fcebc214186",
   "metadata": {},
   "outputs": [],
   "source": [
    "#Creating Loss Function as MAE and optimizer and training loop"
   ]
  },
  {
   "cell_type": "code",
   "execution_count": 27,
   "id": "b47727f7-8c75-48fa-8f84-1fdb13a7b2a5",
   "metadata": {},
   "outputs": [],
   "source": [
    "loss_fn=nn.L1Loss()\n",
    "optimizer=torch.optim.SGD(params=model_lr.parameters(), lr=0.01)"
   ]
  },
  {
   "cell_type": "code",
   "execution_count": 28,
   "id": "9296a2cd-b80e-49d7-9c22-99fd362f17ff",
   "metadata": {},
   "outputs": [],
   "source": [
    "#Adjusting epochs"
   ]
  },
  {
   "cell_type": "code",
   "execution_count": 29,
   "id": "8767478b-095f-4bee-acfe-b32273f3dff6",
   "metadata": {},
   "outputs": [
    {
     "name": "stdout",
     "output_type": "stream",
     "text": [
      "Epoch: 0 | MAE Train Loss: 0.31615114212036133 | MAE Test Loss: 0.484218955039978 \n",
      "Epoch: 10 | MAE Train Loss: 0.20023101568222046 | MAE Test Loss: 0.34834885597229004 \n",
      "Epoch: 20 | MAE Train Loss: 0.08987633883953094 | MAE Test Loss: 0.21738135814666748 \n",
      "Epoch: 30 | MAE Train Loss: 0.05263463407754898 | MAE Test Loss: 0.14330445230007172 \n",
      "Epoch: 40 | MAE Train Loss: 0.044976845383644104 | MAE Test Loss: 0.11211289465427399 \n",
      "Epoch: 50 | MAE Train Loss: 0.04120706021785736 | MAE Test Loss: 0.09747876226902008 \n",
      "Epoch: 60 | MAE Train Loss: 0.037771862000226974 | MAE Test Loss: 0.08799232542514801 \n",
      "Epoch: 70 | MAE Train Loss: 0.03435484319925308 | MAE Test Loss: 0.07968062162399292 \n",
      "Epoch: 80 | MAE Train Loss: 0.03093849867582321 | MAE Test Loss: 0.07164589315652847 \n",
      "Epoch: 90 | MAE Train Loss: 0.02752225659787655 | MAE Test Loss: 0.06368041783571243 \n",
      "Epoch: 100 | MAE Train Loss: 0.024105940014123917 | MAE Test Loss: 0.05564570054411888 \n",
      "Epoch: 110 | MAE Train Loss: 0.020689668133854866 | MAE Test Loss: 0.047680214047431946 \n",
      "Epoch: 120 | MAE Train Loss: 0.017273379489779472 | MAE Test Loss: 0.039645496755838394 \n",
      "Epoch: 130 | MAE Train Loss: 0.013857078738510609 | MAE Test Loss: 0.031680021435022354 \n",
      "Epoch: 140 | MAE Train Loss: 0.010440820828080177 | MAE Test Loss: 0.023645304143428802 \n",
      "Epoch: 150 | MAE Train Loss: 0.007024489808827639 | MAE Test Loss: 0.015679825097322464 \n",
      "Epoch: 160 | MAE Train Loss: 0.0036082579754292965 | MAE Test Loss: 0.007645102683454752 \n",
      "Epoch: 170 | MAE Train Loss: 0.004125459119677544 | MAE Test Loss: 0.008102187886834145 \n",
      "Epoch: 180 | MAE Train Loss: 0.004125459119677544 | MAE Test Loss: 0.008102187886834145 \n",
      "Epoch: 190 | MAE Train Loss: 0.004125459119677544 | MAE Test Loss: 0.008102187886834145 \n",
      "Epoch: 200 | MAE Train Loss: 0.004125459119677544 | MAE Test Loss: 0.008102187886834145 \n",
      "Epoch: 210 | MAE Train Loss: 0.004125459119677544 | MAE Test Loss: 0.008102187886834145 \n",
      "Epoch: 220 | MAE Train Loss: 0.004125459119677544 | MAE Test Loss: 0.008102187886834145 \n"
     ]
    }
   ],
   "source": [
    "torch.manual_seed(42)\n",
    "epochs=230\n",
    "\n",
    "#loss lists\n",
    "train_loss_value=[]\n",
    "test_loss_value=[]\n",
    "epoch_count=[]\n",
    "\n",
    "#Training loop\n",
    "for epoch in range(epochs):\n",
    "    #train data\n",
    "    model_lr.train()\n",
    "    \n",
    "    #fwd method\n",
    "    y_pred=model_lr(X_train)\n",
    "\n",
    "    #clculate the loss value\n",
    "    loss=loss_fn(y_pred, y_train)\n",
    "    optimizer.zero_grad()\n",
    "\n",
    "    #perform bp error on loss fn \n",
    "    loss.backward()\n",
    "\n",
    "    #step teh optimizer\n",
    "    optimizer.step()\n",
    "\n",
    "    #testing\n",
    "    model_lr.eval()\n",
    "\n",
    "    with torch.inference_mode():\n",
    "        test_pred = model_lr(X_test)\n",
    "        test_loss=loss_fn(test_pred, y_test)\n",
    "\n",
    "        if epoch % 10==0:\n",
    "            epoch_count.append(epoch)\n",
    "            train_loss_value.append(loss.detach().numpy())\n",
    "            test_loss_value.append(test_loss.detach().numpy())\n",
    "            print(f\"Epoch: {epoch} | MAE Train Loss: {loss} | MAE Test Loss: {test_loss} \")"
   ]
  },
  {
   "cell_type": "code",
   "execution_count": 30,
   "id": "808102db-1277-485d-981e-340ccba3cbf2",
   "metadata": {},
   "outputs": [
    {
     "data": {
      "image/png": "[encoded data removed]",
      "text/plain": [
       "<Figure size 1000x700 with 1 Axes>"
      ]
     },
     "metadata": {},
     "output_type": "display_data"
    }
   ],
   "source": [
    "# Plot the loss curves\n",
    "plt.figure(figsize=(10,7))\n",
    "plt.plot(epoch_count, train_loss_value, label=\"Train loss\")\n",
    "plt.plot(epoch_count, test_loss_value, label=\"Test loss\")\n",
    "plt.title(\"Training and test loss curves\")\n",
    "plt.ylabel(\"Loss\")\n",
    "plt.xlabel(\"Epochs\")\n",
    "plt.legend();"
   ]
  },
  {
   "cell_type": "code",
   "execution_count": 31,
   "id": "bf032c01-afda-4894-8e79-bc0d7100e660",
   "metadata": {},
   "outputs": [
    {
     "name": "stdout",
     "output_type": "stream",
     "text": [
      "OrderedDict({'weights': tensor([0.6973]), 'bias': tensor([0.2970])})\n"
     ]
    }
   ],
   "source": [
    "print(model_lr.state_dict())"
   ]
  },
  {
   "cell_type": "code",
   "execution_count": 32,
   "id": "49a1b439-8294-46e3-a3a6-8df75e1c0031",
   "metadata": {},
   "outputs": [
    {
     "name": "stdout",
     "output_type": "stream",
     "text": [
      "0.7 0.3\n"
     ]
    }
   ],
   "source": [
    "print(weight, bias)"
   ]
  },
  {
   "cell_type": "code",
   "execution_count": 33,
   "id": "0e6f5a52-e587-4254-98ac-08108e889916",
   "metadata": {},
   "outputs": [],
   "source": [
    "model_lr.eval()\n",
    "with torch.inference_mode():\n",
    "    y_preds=model_lr(X_test)"
   ]
  },
  {
   "cell_type": "code",
   "execution_count": 34,
   "id": "e7d88d94-7948-4703-818f-3846e4c72fa2",
   "metadata": {},
   "outputs": [
    {
     "data": {
      "text/plain": [
       "tensor([0.8548, 0.8562, 0.8576, 0.8590, 0.8604, 0.8618, 0.8632, 0.8645, 0.8659,\n",
       "        0.8673, 0.8687, 0.8701, 0.8715, 0.8729, 0.8743, 0.8757, 0.8771, 0.8785,\n",
       "        0.8799, 0.8813, 0.8827, 0.8841, 0.8855, 0.8869, 0.8883, 0.8896, 0.8910,\n",
       "        0.8924, 0.8938, 0.8952, 0.8966, 0.8980, 0.8994, 0.9008, 0.9022, 0.9036,\n",
       "        0.9050, 0.9064, 0.9078, 0.9092, 0.9106, 0.9120, 0.9134, 0.9148, 0.9161,\n",
       "        0.9175, 0.9189, 0.9203, 0.9217, 0.9231, 0.9245, 0.9259, 0.9273, 0.9287,\n",
       "        0.9301, 0.9315, 0.9329, 0.9343, 0.9357, 0.9371, 0.9385, 0.9399, 0.9412,\n",
       "        0.9426, 0.9440, 0.9454, 0.9468, 0.9482, 0.9496, 0.9510, 0.9524, 0.9538,\n",
       "        0.9552, 0.9566, 0.9580, 0.9594, 0.9608, 0.9622, 0.9636, 0.9650, 0.9663,\n",
       "        0.9677, 0.9691, 0.9705, 0.9719, 0.9733, 0.9747, 0.9761, 0.9775, 0.9789,\n",
       "        0.9803, 0.9817, 0.9831, 0.9845, 0.9859, 0.9873, 0.9887, 0.9901, 0.9915,\n",
       "        0.9928])"
      ]
     },
     "execution_count": 34,
     "metadata": {},
     "output_type": "execute_result"
    }
   ],
   "source": [
    "y_preds"
   ]
  },
  {
   "cell_type": "code",
   "execution_count": 35,
   "id": "9705127f-35e8-4074-b589-c2c46d8f2037",
   "metadata": {},
   "outputs": [
    {
     "data": {
      "image/png": "[encoded data removed]",
      "text/plain": [
       "<Figure size 1800x500 with 1 Axes>"
      ]
     },
     "metadata": {},
     "output_type": "display_data"
    }
   ],
   "source": [
    "plot_predictions(predictions=y_preds)"
   ]
  },
  {
   "cell_type": "code",
   "execution_count": 36,
   "id": "5abd7242-c6ad-402a-a85c-6d9b5d48682c",
   "metadata": {},
   "outputs": [
    {
     "data": {
      "text/plain": [
       "tensor([0.8548, 0.8562, 0.8576, 0.8590, 0.8604, 0.8618, 0.8632, 0.8645, 0.8659,\n",
       "        0.8673, 0.8687, 0.8701, 0.8715, 0.8729, 0.8743, 0.8757, 0.8771, 0.8785,\n",
       "        0.8799, 0.8813, 0.8827, 0.8841, 0.8855, 0.8869, 0.8883, 0.8896, 0.8910,\n",
       "        0.8924, 0.8938, 0.8952, 0.8966, 0.8980, 0.8994, 0.9008, 0.9022, 0.9036,\n",
       "        0.9050, 0.9064, 0.9078, 0.9092, 0.9106, 0.9120, 0.9134, 0.9148, 0.9161,\n",
       "        0.9175, 0.9189, 0.9203, 0.9217, 0.9231, 0.9245, 0.9259, 0.9273, 0.9287,\n",
       "        0.9301, 0.9315, 0.9329, 0.9343, 0.9357, 0.9371, 0.9385, 0.9399, 0.9412,\n",
       "        0.9426, 0.9440, 0.9454, 0.9468, 0.9482, 0.9496, 0.9510, 0.9524, 0.9538,\n",
       "        0.9552, 0.9566, 0.9580, 0.9594, 0.9608, 0.9622, 0.9636, 0.9650, 0.9663,\n",
       "        0.9677, 0.9691, 0.9705, 0.9719, 0.9733, 0.9747, 0.9761, 0.9775, 0.9789,\n",
       "        0.9803, 0.9817, 0.9831, 0.9845, 0.9859, 0.9873, 0.9887, 0.9901, 0.9915,\n",
       "        0.9928])"
      ]
     },
     "execution_count": 36,
     "metadata": {},
     "output_type": "execute_result"
    }
   ],
   "source": [
    "model_lr.eval()\n",
    "with torch.inference_mode():\n",
    "    y_preds_new=model_lr(X_test)\n",
    "y_preds_new"
   ]
  },
  {
   "cell_type": "code",
   "execution_count": 37,
   "id": "8d592b87-204e-4d00-b9c9-49a468724c61",
   "metadata": {},
   "outputs": [
    {
     "name": "stdout",
     "output_type": "stream",
     "text": [
      "tensor([True, True, True, True, True, True, True, True, True, True, True, True,\n",
      "        True, True, True, True, True, True, True, True, True, True, True, True,\n",
      "        True, True, True, True, True, True, True, True, True, True, True, True,\n",
      "        True, True, True, True, True, True, True, True, True, True, True, True,\n",
      "        True, True, True, True, True, True, True, True, True, True, True, True,\n",
      "        True, True, True, True, True, True, True, True, True, True, True, True,\n",
      "        True, True, True, True, True, True, True, True, True, True, True, True,\n",
      "        True, True, True, True, True, True, True, True, True, True, True, True,\n",
      "        True, True, True, True])\n"
     ]
    }
   ],
   "source": [
    "print(y_preds==y_preds_new)"
   ]
  },
  {
   "cell_type": "code",
   "execution_count": 38,
   "id": "c4ffce5e-e993-43ae-b12e-ddc47a553e82",
   "metadata": {},
   "outputs": [],
   "source": [
    "#saving the model"
   ]
  },
  {
   "cell_type": "code",
   "execution_count": 39,
   "id": "c558ae84-3512-4c6e-a52d-1e3152468598",
   "metadata": {},
   "outputs": [
    {
     "name": "stdout",
     "output_type": "stream",
     "text": [
      "Model saved successfully\n"
     ]
    }
   ],
   "source": [
    "torch.save(model_lr.state_dict(), \"linear_regression_model.pth\")\n",
    "print(\"Model saved successfully\")"
   ]
  },
  {
   "cell_type": "code",
   "execution_count": 40,
   "id": "f2765f1f-f05c-4447-aed9-5e3ca5d1ef6e",
   "metadata": {},
   "outputs": [],
   "source": [
    "#Loading Model"
   ]
  },
  {
   "cell_type": "code",
   "execution_count": 41,
   "id": "a7fed71c-612a-4904-8d7a-1231db38d598",
   "metadata": {},
   "outputs": [
    {
     "name": "stdout",
     "output_type": "stream",
     "text": [
      "Model loaded\n"
     ]
    }
   ],
   "source": [
    "# Creating Model instance\n",
    "loaded_model = LinearRegressionModel()\n",
    "loaded_model.load_state_dict(torch.load(\"linear_regression_model.pth\"))\n",
    "\n",
    "loaded_model.eval()\n",
    "print(\"Model loaded\")"
   ]
  },
  {
   "cell_type": "code",
   "execution_count": 42,
   "id": "d8bfae85-5113-428f-8c69-9b415a08f510",
   "metadata": {},
   "outputs": [],
   "source": [
    "with torch.inference_mode():\n",
    "    y_pred_original = model_lr(X_test)\n",
    "    y_pred_loaded = loaded_model(X_test)"
   ]
  },
  {
   "cell_type": "code",
   "execution_count": 43,
   "id": "24c19eae-80ff-4ffb-88af-bc9f42944fbc",
   "metadata": {},
   "outputs": [
    {
     "data": {
      "image/png": "[encoded data removed]",
      "text/plain": [
       "<Figure size 1800x500 with 1 Axes>"
      ]
     },
     "metadata": {},
     "output_type": "display_data"
    }
   ],
   "source": [
    "plot_predictions(X_train, y_train, X_test, y_test, y_pred_loaded)"
   ]
  },
  {
   "cell_type": "code",
   "execution_count": 44,
   "id": "6152f6a8-dbed-4e38-9b6a-665f284798d2",
   "metadata": {},
   "outputs": [
    {
     "name": "stdout",
     "output_type": "stream",
     "text": [
      "Difference between original & loaded model predictions: 0.0\n"
     ]
    }
   ],
   "source": [
    "print(\"Difference between original & loaded model predictions:\", torch.sum(y_pred_original - y_pred_loaded).item())"
   ]
  },
  {
   "cell_type": "code",
   "execution_count": 45,
   "id": "5a343384-43b2-4953-aebb-053081714b38",
   "metadata": {},
   "outputs": [
    {
     "data": {
      "text/plain": [
       "OrderedDict([('weights', tensor([0.6973])), ('bias', tensor([0.2970]))])"
      ]
     },
     "execution_count": 45,
     "metadata": {},
     "output_type": "execute_result"
    }
   ],
   "source": [
    "model_lr.state_dict()"
   ]
  },
  {
   "cell_type": "code",
   "execution_count": 46,
   "id": "c9ae1582-fdf4-4a40-9de4-5c0b2a5e2f66",
   "metadata": {},
   "outputs": [
    {
     "data": {
      "text/plain": [
       "OrderedDict([('weights', tensor([0.6973])), ('bias', tensor([0.2970]))])"
      ]
     },
     "execution_count": 46,
     "metadata": {},
     "output_type": "execute_result"
    }
   ],
   "source": [
    "loaded_model.state_dict()"
   ]
  },
  {
   "cell_type": "code",
   "execution_count": 47,
   "id": "f40e1134-d8a7-48d6-826a-0d4c54f00700",
   "metadata": {},
   "outputs": [],
   "source": [
    "#Using Second method"
   ]
  },
  {
   "cell_type": "code",
   "execution_count": 48,
   "id": "561d7c06-d6a7-492f-a67a-56b071a7d13b",
   "metadata": {},
   "outputs": [
    {
     "name": "stdout",
     "output_type": "stream",
     "text": [
      "saving model to : models\\LR_Model1.pth\n"
     ]
    }
   ],
   "source": [
    "model_path=Path('models')\n",
    "model_path.mkdir(parents=True, exist_ok=True)\n",
    "\n",
    "model_name='LR_Model1.pth'\n",
    "model_save_path=model_path/model_name\n",
    "\n",
    "print(f\"saving model to : {model_save_path}\")\n",
    "torch.save(obj=model_lr.state_dict(),\n",
    "           f=model_save_path)"
   ]
  },
  {
   "cell_type": "code",
   "execution_count": 49,
   "id": "045a1d0f-75a3-4431-b55a-3927fb20fe78",
   "metadata": {},
   "outputs": [],
   "source": [
    "loaded_model_lr=LinearRegressionModel()"
   ]
  },
  {
   "cell_type": "code",
   "execution_count": 50,
   "id": "06e3a35f-444a-400d-9c5f-8e9b383e2e43",
   "metadata": {},
   "outputs": [
    {
     "data": {
      "text/plain": [
       "OrderedDict([('weights', tensor([0.2345])), ('bias', tensor([0.2303]))])"
      ]
     },
     "execution_count": 50,
     "metadata": {},
     "output_type": "execute_result"
    }
   ],
   "source": [
    "loaded_model_lr.state_dict()"
   ]
  }
 ],
 "metadata": {
  "kernelspec": {
   "display_name": "Python 3 (ipykernel)",
   "language": "python",
   "name": "python3"
  },
  "language_info": {
   "codemirror_mode": {
    "name": "ipython",
    "version": 3
   },
   "file_extension": ".py",
   "mimetype": "text/x-python",
   "name": "python",
   "nbconvert_exporter": "python",
   "pygments_lexer": "ipython3",
   "version": "3.13.1"
  }
 },
 "nbformat": 4,
 "nbformat_minor": 5
}
