{
 "cells": [
  {
   "cell_type": "code",
   "execution_count": 1,
   "id": "5e3758f8-e9cc-4108-9244-8dcae7873335",
   "metadata": {},
   "outputs": [],
   "source": [
    "import torch\n",
    "import torchvision\n",
    "from pathlib import Path\n",
    "import torchvision.transforms as transforms\n",
    "from torch.utils.data import DataLoader,random_split\n",
    "from torchvision import datasets\n",
    "import torch.nn as nn\n",
    "import torch.optim as optim\n",
    "import matplotlib.pyplot as plt"
   ]
  },
  {
   "cell_type": "code",
   "execution_count": 2,
   "id": "43e29c1d-32aa-4ff2-9b4c-793cec367cd6",
   "metadata": {},
   "outputs": [],
   "source": [
    "data_path= Path(\"Food/\")\n",
    "image_path= data_path/\"pizza_steak_sushi\"\n",
    "\n",
    "train_dir=image_path/'train'\n",
    "test_dir=image_path/'test'"
   ]
  },
  {
   "cell_type": "code",
   "execution_count": 3,
   "id": "ee41ad63-01c2-44f9-818e-758067fece25",
   "metadata": {},
   "outputs": [
    {
     "data": {
      "text/plain": [
       "(WindowsPath('Food'),\n",
       " WindowsPath('Food/pizza_steak_sushi'),\n",
       " WindowsPath('Food/pizza_steak_sushi/train'),\n",
       " WindowsPath('Food/pizza_steak_sushi/test'))"
      ]
     },
     "execution_count": 3,
     "metadata": {},
     "output_type": "execute_result"
    }
   ],
   "source": [
    "data_path, image_path, train_dir, test_dir"
   ]
  },
  {
   "cell_type": "code",
   "execution_count": 4,
   "id": "63219d2a-a435-4170-994e-0a5de8a92eb6",
   "metadata": {},
   "outputs": [],
   "source": [
    "train_transform = transforms.Compose([transforms.Resize((128, 128)),\n",
    "                                      transforms.RandomHorizontalFlip(p=0.1),\n",
    "                                      transforms.RandomRotation(degrees=15),\n",
    "                                      transforms.ColorJitter(brightness=0.1, contrast=0.2),\n",
    "                                      transforms.ToTensor(),\n",
    "                                     ])\n",
    "\n",
    "test_transform = transforms.Compose([transforms.Resize((128, 128)),\n",
    "                                     transforms.ToTensor(),\n",
    "                                    ])"
   ]
  },
  {
   "cell_type": "code",
   "execution_count": 5,
   "id": "e66749c8-6596-4a85-943a-7001c40ca239",
   "metadata": {},
   "outputs": [
    {
     "data": {
      "text/plain": [
       "(Compose(\n",
       "     Resize(size=(128, 128), interpolation=bilinear, max_size=None, antialias=True)\n",
       "     RandomHorizontalFlip(p=0.1)\n",
       "     RandomRotation(degrees=[-15.0, 15.0], interpolation=nearest, expand=False, fill=0)\n",
       "     ColorJitter(brightness=(0.9, 1.1), contrast=(0.8, 1.2), saturation=None, hue=None)\n",
       "     ToTensor()\n",
       " ),\n",
       " Compose(\n",
       "     Resize(size=(128, 128), interpolation=bilinear, max_size=None, antialias=True)\n",
       "     ToTensor()\n",
       " ))"
      ]
     },
     "execution_count": 5,
     "metadata": {},
     "output_type": "execute_result"
    }
   ],
   "source": [
    "train_transform, test_transform"
   ]
  },
  {
   "cell_type": "code",
   "execution_count": 6,
   "id": "01c849b2-468d-4072-80d0-566e0e93ed6a",
   "metadata": {},
   "outputs": [
    {
     "name": "stdout",
     "output_type": "stream",
     "text": [
      "Train dataset: 225 images\n",
      "Test dataset: 80 images\n",
      "Classes: ['pizza', 'steak', 'sushi']\n"
     ]
    }
   ],
   "source": [
    "train_dataset = datasets.ImageFolder(root=train_dir,\n",
    "                                     transform=train_transform)\n",
    "\n",
    "test_dataset = datasets.ImageFolder(root=test_dir,\n",
    "                                    transform=test_transform)\n",
    "\n",
    "train_loader = DataLoader(train_dataset,\n",
    "                          batch_size=32,\n",
    "                          shuffle=True,\n",
    "                          num_workers=4)\n",
    "\n",
    "test_loader = DataLoader(test_dataset,\n",
    "                         batch_size=32,\n",
    "                         shuffle=False,\n",
    "                         num_workers=4)\n",
    "\n",
    "print(f\"Train dataset: {len(train_dataset)} images\")\n",
    "print(f\"Test dataset: {len(test_dataset)} images\")\n",
    "print(f\"Classes: {train_dataset.classes}\")"
   ]
  },
  {
   "cell_type": "code",
   "execution_count": 7,
   "id": "01486152-b5be-41b9-ad6f-6e4c598b2319",
   "metadata": {},
   "outputs": [
    {
     "data": {
      "text/plain": [
       "(8, 3)"
      ]
     },
     "execution_count": 7,
     "metadata": {},
     "output_type": "execute_result"
    }
   ],
   "source": [
    "len(train_loader), len(test_loader)"
   ]
  },
  {
   "cell_type": "code",
   "execution_count": 8,
   "id": "1b3647cc-19cc-4d11-8f96-8aea727aa6e0",
   "metadata": {},
   "outputs": [
    {
     "data": {
      "text/plain": [
       "(torch.Size([32, 3, 128, 128]), torch.Size([32]))"
      ]
     },
     "execution_count": 8,
     "metadata": {},
     "output_type": "execute_result"
    }
   ],
   "source": [
    "img, label = next(iter(train_loader))\n",
    "img.shape, label.shape"
   ]
  },
  {
   "cell_type": "code",
   "execution_count": 9,
   "id": "8e56a772-0e44-4f12-a422-0211fe80edf8",
   "metadata": {},
   "outputs": [],
   "source": [
    "class ImprovedVGG(nn.Module):\n",
    "    def __init__(self, input_shape, hidden_units, output_shape):\n",
    "        super().__init__()\n",
    "        self.conv_block_1 = nn.Sequential(\n",
    "            nn.Conv2d(in_channels=input_shape, out_channels=hidden_units, kernel_size=3, padding=1),\n",
    "            nn.ReLU(),\n",
    "            nn.Conv2d(in_channels=hidden_units, out_channels=hidden_units, kernel_size=3, padding=1),\n",
    "            nn.ReLU(),\n",
    "            nn.MaxPool2d(kernel_size=2)\n",
    "        )\n",
    "\n",
    "        self.conv_block_2 = nn.Sequential(\n",
    "            nn.Conv2d(in_channels=hidden_units, out_channels=hidden_units*2, kernel_size=3, padding=1),\n",
    "            nn.ReLU(),\n",
    "            nn.Conv2d(in_channels=hidden_units*2, out_channels=hidden_units*2, kernel_size=3, padding=1),\n",
    "            nn.ReLU(),\n",
    "            nn.MaxPool2d(kernel_size=2)\n",
    "        )\n",
    "\n",
    "        self.flatten = nn.Flatten()\n",
    "        self.fc1 = nn.Linear(128 * 32 * 32, 512)\n",
    "        self.fc2 = nn.Linear(512, output_shape)\n",
    "        self.dropout = nn.Dropout(0.5)\n",
    "        self.leaky_relu = nn.LeakyReLU(0.1)\n",
    "\n",
    "    def forward(self, x):\n",
    "        x = self.conv_block_1(x)\n",
    "        x = self.conv_block_2(x)\n",
    "        x = self.flatten(x)\n",
    "        x = self.fc1(x)\n",
    "        x = self.leaky_relu(x)\n",
    "        x = self.dropout(x)\n",
    "        x = self.fc2(x)\n",
    "        return x"
   ]
  },
  {
   "cell_type": "code",
   "execution_count": 10,
   "id": "e4a025b6-41d9-488e-8295-e332d6f90e71",
   "metadata": {},
   "outputs": [],
   "source": [
    "device = torch.device(\"cuda\" if torch.cuda.is_available() else \"cpu\")\n",
    "\n",
    "model = ImprovedVGG(input_shape=3,\n",
    "                    hidden_units=64,\n",
    "                    output_shape=len(train_dataset.classes)).to(device)\n",
    "\n",
    "loss_fn = nn.CrossEntropyLoss()\n",
    "optimizer = optim.Adam(model.parameters(), lr=0.001, weight_decay=1e-4)"
   ]
  },
  {
   "cell_type": "code",
   "execution_count": 11,
   "id": "c93a90b3-9417-4a41-9f93-12ba5f58fe6d",
   "metadata": {},
   "outputs": [],
   "source": [
    "def train_step(model, dataloader, loss_fn, optimizer, device):\n",
    "    model.train()\n",
    "    train_loss, train_correct = 0, 0\n",
    "\n",
    "    for X, y in dataloader:\n",
    "        X, y = X.to(device), y.to(device)\n",
    "\n",
    "        optimizer.zero_grad()\n",
    "        y_pred = model(X)\n",
    "        loss = loss_fn(y_pred, y)\n",
    "        loss.backward()\n",
    "        optimizer.step()\n",
    "\n",
    "        train_loss += loss.item()\n",
    "        train_correct += (y_pred.argmax(1) == y).sum().item()\n",
    "\n",
    "    return train_loss / len(dataloader), train_correct / len(dataloader.dataset)"
   ]
  },
  {
   "cell_type": "code",
   "execution_count": 12,
   "id": "a4e0befc-3d56-4719-afbb-2dc75c58c508",
   "metadata": {},
   "outputs": [],
   "source": [
    "def test_step(model, dataloader, loss_fn, device):\n",
    "    model.eval()\n",
    "    test_loss, test_correct = 0, 0\n",
    "\n",
    "    with torch.no_grad():\n",
    "        for X, y in dataloader:\n",
    "            X, y = X.to(device), y.to(device)\n",
    "\n",
    "            y_pred = model(X)\n",
    "            loss = loss_fn(y_pred, y)\n",
    "\n",
    "            test_loss += loss.item()\n",
    "            test_correct += (y_pred.argmax(1) == y).sum().item()\n",
    "\n",
    "    return test_loss / len(dataloader), test_correct / len(dataloader.dataset)"
   ]
  },
  {
   "cell_type": "code",
   "execution_count": 13,
   "id": "6a977191-718c-4248-a396-59e8b38cb79c",
   "metadata": {},
   "outputs": [
    {
     "name": "stdout",
     "output_type": "stream",
     "text": [
      "Epoch 1 | Train Loss: 1.7268 | Train Acc: 0.3422 | Test Loss: 1.2477 | Test Acc: 0.3625\n",
      "Epoch 2 | Train Loss: 1.0898 | Train Acc: 0.3911 | Test Loss: 1.1230 | Test Acc: 0.3500\n",
      "Epoch 3 | Train Loss: 1.0068 | Train Acc: 0.4000 | Test Loss: 0.9755 | Test Acc: 0.4625\n",
      "Epoch 4 | Train Loss: 0.9289 | Train Acc: 0.5111 | Test Loss: 1.0990 | Test Acc: 0.4250\n",
      "Epoch 5 | Train Loss: 0.9513 | Train Acc: 0.5333 | Test Loss: 1.0251 | Test Acc: 0.4500\n",
      "Epoch 6 | Train Loss: 0.9259 | Train Acc: 0.6222 | Test Loss: 1.1738 | Test Acc: 0.4125\n",
      "Epoch 7 | Train Loss: 0.8662 | Train Acc: 0.5689 | Test Loss: 0.9276 | Test Acc: 0.4625\n",
      "Epoch 8 | Train Loss: 0.9700 | Train Acc: 0.4978 | Test Loss: 1.0034 | Test Acc: 0.4125\n",
      "Epoch 9 | Train Loss: 0.9110 | Train Acc: 0.5067 | Test Loss: 0.9458 | Test Acc: 0.4625\n",
      "Epoch 10 | Train Loss: 0.9142 | Train Acc: 0.5644 | Test Loss: 1.0712 | Test Acc: 0.4125\n"
     ]
    }
   ],
   "source": [
    "epochs = 10\n",
    "for epoch in range(epochs):\n",
    "    train_loss, train_acc = train_step(model, train_loader, loss_fn, optimizer, device)\n",
    "    test_loss, test_acc = test_step(model, test_loader, loss_fn, device)\n",
    "\n",
    "    print(f\"Epoch {epoch+1} | Train Loss: {train_loss:.4f} | Train Acc: {train_acc:.4f} | Test Loss: {test_loss:.4f} | Test Acc: {test_acc:.4f}\")"
   ]
  },
  {
   "cell_type": "code",
   "execution_count": 14,
   "id": "2e011a86-db14-41be-ad80-2ca906ebf629",
   "metadata": {},
   "outputs": [
    {
     "name": "stdout",
     "output_type": "stream",
     "text": [
      "Using device: cpu\n",
      "Epoch 1 | Train Loss: 2.0747 | Train Acc: 0.3906 | Test Loss: 1.4593 | Test Acc: 0.2917\n",
      "Epoch 2 | Train Loss: 1.2370 | Train Acc: 0.3164 | Test Loss: 1.1698 | Test Acc: 0.3021\n",
      "Epoch 3 | Train Loss: 1.0940 | Train Acc: 0.3320 | Test Loss: 1.0415 | Test Acc: 0.5729\n",
      "Epoch 4 | Train Loss: 1.1078 | Train Acc: 0.3320 | Test Loss: 1.1292 | Test Acc: 0.3854\n",
      "Epoch 5 | Train Loss: 1.0551 | Train Acc: 0.3633 | Test Loss: 0.9957 | Test Acc: 0.5417\n",
      "Epoch 6 | Train Loss: 0.9364 | Train Acc: 0.6016 | Test Loss: 1.0151 | Test Acc: 0.5312\n",
      "Epoch 7 | Train Loss: 0.9322 | Train Acc: 0.5000 | Test Loss: 0.9429 | Test Acc: 0.4583\n",
      "Epoch 8 | Train Loss: 0.8282 | Train Acc: 0.6641 | Test Loss: 0.9826 | Test Acc: 0.4062\n",
      "Epoch 9 | Train Loss: 0.8018 | Train Acc: 0.6367 | Test Loss: 1.4934 | Test Acc: 0.3333\n",
      "Epoch 10 | Train Loss: 1.0103 | Train Acc: 0.5039 | Test Loss: 0.9942 | Test Acc: 0.3646\n"
     ]
    },
    {
     "data": {
      "image/png": "[encoded data removed]",
      "text/plain": [
       "<Figure size 1200x400 with 2 Axes>"
      ]
     },
     "metadata": {},
     "output_type": "display_data"
    }
   ],
   "source": [
    "import torch\n",
    "import torch.nn as nn\n",
    "import torchvision\n",
    "import torchvision.transforms as transforms\n",
    "from torch.utils.data import DataLoader\n",
    "from torchvision.datasets import ImageFolder\n",
    "import matplotlib.pyplot as plt\n",
    "from pathlib import Path\n",
    "\n",
    "# Set device\n",
    "device = torch.device(\"cuda\" if torch.cuda.is_available() else \"cpu\")\n",
    "print(f\"Using device: {device}\")\n",
    "\n",
    "# Set Paths\n",
    "data_path = Path(\"Food/\")\n",
    "image_path = data_path / \"pizza_steak_sushi\"\n",
    "train_dir = image_path / \"train\"\n",
    "test_dir = image_path / \"test\"\n",
    "\n",
    "train_transforms = transforms.Compose([\n",
    "    transforms.RandomHorizontalFlip(),\n",
    "    transforms.RandomRotation(10),\n",
    "    transforms.ColorJitter(brightness=0.2, contrast=0.2),\n",
    "    transforms.Resize((128, 128)),  \n",
    "    transforms.ToTensor()\n",
    "])\n",
    "\n",
    "test_transforms = transforms.Compose([\n",
    "    transforms.Resize((128, 128)),  \n",
    "    transforms.ToTensor()\n",
    "])\n",
    "\n",
    "# Load Data\n",
    "train_data = ImageFolder(root=train_dir, transform=train_transforms)\n",
    "test_data = ImageFolder(root=test_dir, transform=test_transforms)\n",
    "\n",
    "train_dataloader = DataLoader(train_data, batch_size=32, shuffle=True)\n",
    "test_dataloader = DataLoader(test_data, batch_size=32, shuffle=False)\n",
    "\n",
    "# Define Updated ImprovedVGG Model\n",
    "class ImprovedVGG(nn.Module):\n",
    "    def __init__(self, input_shape, hidden_units, output_shape):\n",
    "        super().__init__()\n",
    "        self.conv_block_1 = nn.Sequential(\n",
    "            nn.Conv2d(in_channels=input_shape, out_channels=hidden_units, kernel_size=3, padding=1),\n",
    "            nn.ReLU(),\n",
    "            nn.Conv2d(in_channels=hidden_units, out_channels=hidden_units, kernel_size=3, padding=0),\n",
    "            nn.LeakyReLU(0.1),\n",
    "            nn.MaxPool2d(kernel_size=2)\n",
    "        )\n",
    "\n",
    "        self.conv_block_2 = nn.Sequential(\n",
    "            nn.Conv2d(in_channels=hidden_units, out_channels=hidden_units * 2, kernel_size=3, padding=1),\n",
    "            nn.ReLU(),\n",
    "            nn.Conv2d(in_channels=hidden_units * 2, out_channels=hidden_units * 2, kernel_size=3, padding=1),\n",
    "            nn.LeakyReLU(0.1),\n",
    "            nn.MaxPool2d(kernel_size=2)\n",
    "        )\n",
    "\n",
    "        self.flatten = nn.Flatten()\n",
    "        self.fc1 = nn.Linear(128 * 31 * 31, 512)\n",
    "        self.fc2 = nn.Linear(512, output_shape)\n",
    "        self.dropout = nn.Dropout(0.5)\n",
    "        self.leaky_relu = nn.LeakyReLU(0.1)\n",
    "\n",
    "    def forward(self, x):\n",
    "        x = self.conv_block_1(x)\n",
    "        x = self.conv_block_2(x)\n",
    "        x = self.flatten(x)\n",
    "        x = self.fc1(x)\n",
    "        x = self.leaky_relu(x)\n",
    "        x = self.dropout(x)\n",
    "        x = self.fc2(x)\n",
    "        return x\n",
    "\n",
    "# Model Setup\n",
    "torch.manual_seed(42)\n",
    "model = ImprovedVGG(input_shape=3, hidden_units=64, output_shape=len(train_data.classes)).to(device)\n",
    "\n",
    "# Loss Function & Optimizer\n",
    "loss_fn = nn.CrossEntropyLoss()\n",
    "optimizer = torch.optim.Adam(model.parameters(), lr=0.001, weight_decay=1e-4)  \n",
    "\n",
    "# Training & Testing Functions\n",
    "def train_step(model, dataloader, loss_fn, optimizer):\n",
    "    model.train()\n",
    "    train_loss, train_acc = 0, 0\n",
    "    for batch, (X, y) in enumerate(dataloader):\n",
    "        X, y = X.to(device), y.to(device)\n",
    "\n",
    "        y_pred = model(X)\n",
    "        loss = loss_fn(y_pred, y)\n",
    "\n",
    "        optimizer.zero_grad()\n",
    "        loss.backward()\n",
    "        optimizer.step()\n",
    "\n",
    "        train_loss += loss.item()\n",
    "        train_acc += (y_pred.argmax(dim=1) == y).sum().item() / len(y)\n",
    "\n",
    "    return train_loss / len(dataloader), train_acc / len(dataloader)\n",
    "\n",
    "def test_step(model, dataloader, loss_fn):\n",
    "    model.eval()\n",
    "    test_loss, test_acc = 0, 0\n",
    "    with torch.no_grad():\n",
    "        for X, y in dataloader:\n",
    "            X, y = X.to(device), y.to(device)\n",
    "\n",
    "            y_pred = model(X)\n",
    "            loss = loss_fn(y_pred, y)\n",
    "\n",
    "            test_loss += loss.item()\n",
    "            test_acc += (y_pred.argmax(dim=1) == y).sum().item() / len(y)\n",
    "\n",
    "    return test_loss / len(dataloader), test_acc / len(dataloader)\n",
    "\n",
    "# Training Loop\n",
    "epochs = 6\n",
    "train_losses, test_losses = [], []\n",
    "train_accuracies, test_accuracies = [], []\n",
    "\n",
    "for epoch in range(epochs):\n",
    "    train_loss, train_acc = train_step(model, train_dataloader, loss_fn, optimizer)\n",
    "    test_loss, test_acc = test_step(model, test_dataloader, loss_fn)\n",
    "\n",
    "    train_losses.append(train_loss)\n",
    "    test_losses.append(test_loss)\n",
    "    train_accuracies.append(train_acc)\n",
    "    test_accuracies.append(test_acc)\n",
    "\n",
    "    print(f\"Epoch {epoch+1} | Train Loss: {train_loss:.4f} | Train Acc: {train_acc:.4f} | Test Loss: {test_loss:.4f} | Test Acc: {test_acc:.4f}\")\n",
    "\n",
    "# Plot Accuracy & Loss\n",
    "fig, axs = plt.subplots(1, 2, figsize=(12, 4))\n",
    "\n",
    "axs[0].plot(range(epochs), train_losses, label=\"Train Loss\")\n",
    "axs[0].plot(range(epochs), test_losses, label=\"Test Loss\")\n",
    "axs[0].set_title(\"Loss Curve\")\n",
    "axs[0].legend()\n",
    "\n",
    "axs[1].plot(range(epochs), train_accuracies, label=\"Train Acc\")\n",
    "axs[1].plot(range(epochs), test_accuracies, label=\"Test Acc\")\n",
    "axs[1].set_title(\"Accuracy Curve\")\n",
    "axs[1].legend()\n",
    "\n",
    "plt.show()\n"
   ]
  },
  {
   "cell_type": "code",
   "execution_count": 15,
   "id": "3eec1b2f-3fe7-4ace-93c1-bb4229f770d7",
   "metadata": {},
   "outputs": [],
   "source": [
    "# torch.save(model.state_dict(), \"food101_vgg.pth\")  # Save trained model\n",
    "\n",
    "# # Load model for evaluation\n",
    "# model.load_state_dict(torch.load(\"food101_vgg.pth\"))\n",
    "# model.to(device)\n",
    "\n",
    "# test_loss, test_acc = test_step(model, test_loader, loss_fn, device)\n",
    "# print(f\"Final Test Accuracy: {test_acc * 100:.2f}%\")\n"
   ]
  },
  {
   "cell_type": "markdown",
   "id": "3994df9a-b321-4b74-ba48-40743b8f97c7",
   "metadata": {},
   "source": [
    "# Improved model"
   ]
  },
  {
   "cell_type": "code",
   "execution_count": 21,
   "id": "24aea11c-acb3-4df6-854a-7d87c7b0548f",
   "metadata": {},
   "outputs": [
    {
     "data": {
      "text/plain": [
       "device(type='cpu')"
      ]
     },
     "execution_count": 21,
     "metadata": {},
     "output_type": "execute_result"
    }
   ],
   "source": [
    "device = torch.device(\"cuda\" if torch.cuda.is_available() else \"cpu\")\n",
    "device"
   ]
  },
  {
   "cell_type": "code",
   "execution_count": 22,
   "id": "bf40bf24-9192-4eb5-b125-2b1bedb04620",
   "metadata": {},
   "outputs": [],
   "source": [
    "data_path = Path(\"Food/\")\n",
    "image_path = data_path / \"pizza_steak_sushi\"\n",
    "\n",
    "train_dir = image_path / \"train\"\n",
    "test_dir = image_path / \"test\""
   ]
  },
  {
   "cell_type": "code",
   "execution_count": 32,
   "id": "89b74514-e94a-424a-8369-69fa2b8be466",
   "metadata": {},
   "outputs": [
    {
     "data": {
      "text/plain": [
       "(WindowsPath('Food/pizza_steak_sushi/train'),\n",
       " WindowsPath('Food/pizza_steak_sushi/test'))"
      ]
     },
     "execution_count": 32,
     "metadata": {},
     "output_type": "execute_result"
    }
   ],
   "source": [
    "train_dir, test_dir"
   ]
  },
  {
   "cell_type": "code",
   "execution_count": 23,
   "id": "95c74805-b4c6-4be2-af52-ff23c030a7f0",
   "metadata": {},
   "outputs": [],
   "source": [
    "# Data Augmentation\n",
    "train_transforms = transforms.Compose([transforms.Resize((128, 128)),\n",
    "                                       transforms.RandomHorizontalFlip(),\n",
    "                                       transforms.RandomRotation(10),\n",
    "                                       transforms.ToTensor()\n",
    "                                      ])\n",
    "\n",
    "test_transforms = transforms.Compose([transforms.Resize((128, 128)),\n",
    "                                      transforms.ToTensor()\n",
    "                                     ])"
   ]
  },
  {
   "cell_type": "code",
   "execution_count": 31,
   "id": "5e1b8a2c-e830-4360-a3b2-9eaac523bb22",
   "metadata": {},
   "outputs": [
    {
     "data": {
      "text/plain": [
       "(Compose(\n",
       "     Resize(size=(128, 128), interpolation=bilinear, max_size=None, antialias=True)\n",
       "     RandomHorizontalFlip(p=0.5)\n",
       "     RandomRotation(degrees=[-10.0, 10.0], interpolation=nearest, expand=False, fill=0)\n",
       "     ToTensor()\n",
       " ),\n",
       " Compose(\n",
       "     Resize(size=(128, 128), interpolation=bilinear, max_size=None, antialias=True)\n",
       "     ToTensor()\n",
       " ))"
      ]
     },
     "execution_count": 31,
     "metadata": {},
     "output_type": "execute_result"
    }
   ],
   "source": [
    "train_transforms, test_transforms"
   ]
  },
  {
   "cell_type": "code",
   "execution_count": 25,
   "id": "682a62e3-45ff-471f-85d4-556a9e153138",
   "metadata": {},
   "outputs": [
    {
     "data": {
      "text/plain": [
       "(Dataset ImageFolder\n",
       "     Number of datapoints: 225\n",
       "     Root location: Food\\pizza_steak_sushi\\train\n",
       "     StandardTransform\n",
       " Transform: Compose(\n",
       "                Resize(size=(128, 128), interpolation=bilinear, max_size=None, antialias=True)\n",
       "                RandomHorizontalFlip(p=0.5)\n",
       "                RandomRotation(degrees=[-10.0, 10.0], interpolation=nearest, expand=False, fill=0)\n",
       "                ToTensor()\n",
       "            ),\n",
       " Dataset ImageFolder\n",
       "     Number of datapoints: 80\n",
       "     Root location: Food\\pizza_steak_sushi\\test\n",
       "     StandardTransform\n",
       " Transform: Compose(\n",
       "                Resize(size=(128, 128), interpolation=bilinear, max_size=None, antialias=True)\n",
       "                ToTensor()\n",
       "            ))"
      ]
     },
     "execution_count": 25,
     "metadata": {},
     "output_type": "execute_result"
    }
   ],
   "source": [
    "#Load Dataset\n",
    "train_data = datasets.ImageFolder(root=train_dir,\n",
    "                                  transform=train_transforms)\n",
    "test_data = datasets.ImageFolder(root=test_dir,\n",
    "                                 transform=test_transforms)\n",
    "train_data, test_data"
   ]
  },
  {
   "cell_type": "code",
   "execution_count": 26,
   "id": "06568c5e-9288-47ea-b03e-7b7be5a4f457",
   "metadata": {},
   "outputs": [
    {
     "data": {
      "text/plain": [
       "(<torch.utils.data.dataloader.DataLoader at 0x211cdf92750>,\n",
       " <torch.utils.data.dataloader.DataLoader at 0x211cdf92750>)"
      ]
     },
     "execution_count": 26,
     "metadata": {},
     "output_type": "execute_result"
    }
   ],
   "source": [
    "train_dataloader = DataLoader(train_data,\n",
    "                              batch_size=32,\n",
    "                              shuffle=True)\n",
    "test_dataloader = DataLoader(test_data,\n",
    "                             batch_size=32,\n",
    "                             shuffle=False)\n",
    "test_dataloader, test_dataloader"
   ]
  },
  {
   "cell_type": "code",
   "execution_count": 29,
   "id": "bf75daa6-4a93-4e9c-a2a8-5c3a2703140d",
   "metadata": {},
   "outputs": [
    {
     "data": {
      "text/plain": [
       "(8, 3)"
      ]
     },
     "execution_count": 29,
     "metadata": {},
     "output_type": "execute_result"
    }
   ],
   "source": [
    "len(train_dataloader), len(test_dataloader)"
   ]
  },
  {
   "cell_type": "code",
   "execution_count": 33,
   "id": "c98ee7de-a33c-4925-aedf-f05d9b176683",
   "metadata": {},
   "outputs": [],
   "source": [
    "class ImprovedVGG(nn.Module):\n",
    "    def __init__(self, input_shape, hidden_units, output_shape):\n",
    "        super().__init__()\n",
    "\n",
    "        self.conv_block_1 = nn.Sequential(nn.Conv2d(in_channels=input_shape, out_channels=hidden_units, kernel_size=3, padding=1),\n",
    "                                          nn.BatchNorm2d(hidden_units),\n",
    "                                          nn.ReLU(),\n",
    "                                          nn.Conv2d(in_channels=hidden_units, out_channels=hidden_units, kernel_size=3, padding=0),\n",
    "                                          nn.BatchNorm2d(hidden_units),\n",
    "                                          nn.LeakyReLU(0.1),\n",
    "                                          nn.MaxPool2d(kernel_size=2)\n",
    "                                         )\n",
    "\n",
    "        self.conv_block_2 = nn.Sequential(nn.Conv2d(in_channels=hidden_units, out_channels=hidden_units * 2, kernel_size=3, padding=1),\n",
    "                                          nn.BatchNorm2d(hidden_units * 2),\n",
    "                                          nn.ReLU(),\n",
    "                                          nn.Conv2d(in_channels=hidden_units * 2, out_channels=hidden_units * 2, kernel_size=3, padding=1),\n",
    "                                          nn.BatchNorm2d(hidden_units * 2),\n",
    "                                          nn.LeakyReLU(0.1),\n",
    "                                          nn.MaxPool2d(kernel_size=2)\n",
    "                                         )\n",
    "\n",
    "        self.flatten = nn.Flatten()\n",
    "        self.fc1 = nn.Linear(31 * 31 * hidden_units * 2, 512)\n",
    "        self.fc2 = nn.Linear(512, output_shape)\n",
    "        \n",
    "        self.dropout = nn.Dropout(0.6)\n",
    "        self.leaky_relu = nn.LeakyReLU(0.1)\n",
    "\n",
    "    def forward(self, x):\n",
    "        x = self.conv_block_1(x)\n",
    "        x = self.conv_block_2(x)\n",
    "        x = self.flatten(x)\n",
    "        x = self.fc1(x)\n",
    "        x = self.leaky_relu(x)\n",
    "        x = self.dropout(x)\n",
    "        x = self.fc2(x)\n",
    "        return x\n"
   ]
  },
  {
   "cell_type": "code",
   "execution_count": 34,
   "id": "1078d21d-753c-4af3-9262-622db8515992",
   "metadata": {},
   "outputs": [
    {
     "data": {
      "text/plain": [
       "ImprovedVGG(\n",
       "  (conv_block_1): Sequential(\n",
       "    (0): Conv2d(3, 64, kernel_size=(3, 3), stride=(1, 1), padding=(1, 1))\n",
       "    (1): BatchNorm2d(64, eps=1e-05, momentum=0.1, affine=True, track_running_stats=True)\n",
       "    (2): ReLU()\n",
       "    (3): Conv2d(64, 64, kernel_size=(3, 3), stride=(1, 1))\n",
       "    (4): BatchNorm2d(64, eps=1e-05, momentum=0.1, affine=True, track_running_stats=True)\n",
       "    (5): LeakyReLU(negative_slope=0.1)\n",
       "    (6): MaxPool2d(kernel_size=2, stride=2, padding=0, dilation=1, ceil_mode=False)\n",
       "  )\n",
       "  (conv_block_2): Sequential(\n",
       "    (0): Conv2d(64, 128, kernel_size=(3, 3), stride=(1, 1), padding=(1, 1))\n",
       "    (1): BatchNorm2d(128, eps=1e-05, momentum=0.1, affine=True, track_running_stats=True)\n",
       "    (2): ReLU()\n",
       "    (3): Conv2d(128, 128, kernel_size=(3, 3), stride=(1, 1), padding=(1, 1))\n",
       "    (4): BatchNorm2d(128, eps=1e-05, momentum=0.1, affine=True, track_running_stats=True)\n",
       "    (5): LeakyReLU(negative_slope=0.1)\n",
       "    (6): MaxPool2d(kernel_size=2, stride=2, padding=0, dilation=1, ceil_mode=False)\n",
       "  )\n",
       "  (flatten): Flatten(start_dim=1, end_dim=-1)\n",
       "  (fc1): Linear(in_features=123008, out_features=512, bias=True)\n",
       "  (fc2): Linear(in_features=512, out_features=3, bias=True)\n",
       "  (dropout): Dropout(p=0.6, inplace=False)\n",
       "  (leaky_relu): LeakyReLU(negative_slope=0.1)\n",
       ")"
      ]
     },
     "execution_count": 34,
     "metadata": {},
     "output_type": "execute_result"
    }
   ],
   "source": [
    "torch.manual_seed(42)\n",
    "model = ImprovedVGG(input_shape=3, hidden_units=64, output_shape=len(train_data.classes))\n",
    "model.to(device)"
   ]
  },
  {
   "cell_type": "code",
   "execution_count": 36,
   "id": "dbe0ed50-7daf-452a-b478-21623c0ea271",
   "metadata": {},
   "outputs": [],
   "source": [
    "loss_fn = nn.CrossEntropyLoss()\n",
    "optimizer = optim.Adam(model.parameters(), lr=0.001, weight_decay=1e-3)\n",
    "scheduler = optim.lr_scheduler.ReduceLROnPlateau(optimizer, mode='min', patience=3, factor=0.1)"
   ]
  },
  {
   "cell_type": "code",
   "execution_count": 40,
   "id": "241b011c-a18c-4f74-9b9c-e838fc734b3f",
   "metadata": {},
   "outputs": [
    {
     "data": {
      "text/plain": [
       "(CrossEntropyLoss(),\n",
       " Adam (\n",
       " Parameter Group 0\n",
       "     amsgrad: False\n",
       "     betas: (0.9, 0.999)\n",
       "     capturable: False\n",
       "     differentiable: False\n",
       "     eps: 1e-08\n",
       "     foreach: None\n",
       "     fused: None\n",
       "     lr: 0.001\n",
       "     maximize: False\n",
       "     weight_decay: 0.001\n",
       " ))"
      ]
     },
     "execution_count": 40,
     "metadata": {},
     "output_type": "execute_result"
    }
   ],
   "source": [
    "loss_fn, optimizer"
   ]
  },
  {
   "cell_type": "code",
   "execution_count": null,
   "id": "439deab1-1b51-4d92-ab0d-97bab8b214a7",
   "metadata": {},
   "outputs": [
    {
     "name": "stdout",
     "output_type": "stream",
     "text": [
      "Epoch 1 | Train Loss: 3.9729 | Train Acc: 0.6622 | Test Loss: 4.6120 | Test Acc: 0.5625\n",
      "Epoch 2 | Train Loss: 4.7164 | Train Acc: 0.6444 | Test Loss: 4.6681 | Test Acc: 0.5875\n"
     ]
    }
   ],
   "source": [
    "def train(model, train_dataloader, test_dataloader, loss_fn, optimizer, epochs):\n",
    "    for epoch in range(epochs):\n",
    "        model.train()\n",
    "        train_loss, train_correct = 0, 0\n",
    "        \n",
    "        for images, labels in train_dataloader:\n",
    "            images, labels = images.to(device), labels.to(device)\n",
    "            optimizer.zero_grad()\n",
    "            \n",
    "            outputs = model(images)\n",
    "            loss = loss_fn(outputs, labels)\n",
    "            loss.backward()\n",
    "            optimizer.step()\n",
    "            \n",
    "            train_loss += loss.item()\n",
    "            train_correct += (outputs.argmax(1) == labels).sum().item()\n",
    "        \n",
    "        train_loss /= len(train_dataloader)\n",
    "        train_acc = train_correct / len(train_data)\n",
    "        \n",
    "        # Validation Phase\n",
    "        model.eval()\n",
    "        test_loss, test_correct = 0, 0\n",
    "        \n",
    "        with torch.no_grad():\n",
    "            for images, labels in test_dataloader:\n",
    "                images, labels = images.to(device), labels.to(device)\n",
    "                outputs = model(images)\n",
    "                loss = loss_fn(outputs, labels)\n",
    "                \n",
    "                test_loss += loss.item()\n",
    "                test_correct += (outputs.argmax(1) == labels).sum().item()\n",
    "        \n",
    "        test_loss /= len(test_dataloader)\n",
    "        test_acc = test_correct / len(test_data)\n",
    "        \n",
    "        scheduler.step(test_loss)\n",
    "        \n",
    "        print(f\"Epoch {epoch+1} | Train Loss: {train_loss:.4f} | Train Acc: {train_acc:.4f} | Test Loss: {test_loss:.4f} | Test Acc: {test_acc:.4f}\")\n",
    "\n",
    "train(model, train_dataloader, test_dataloader, loss_fn, optimizer, epochs=6)"
   ]
  },
  {
   "cell_type": "code",
   "execution_count": 48,
   "id": "32429f50-5718-4c47-959d-94017fe7ef70",
   "metadata": {},
   "outputs": [
    {
     "data": {
      "image/png": "[encoded data removed]",
      "text/plain": [
       "<Figure size 1200x600 with 2 Axes>"
      ]
     },
     "metadata": {},
     "output_type": "display_data"
    },
    {
     "name": "stdout",
     "output_type": "stream",
     "text": [
      "Training completed!\n"
     ]
    }
   ],
   "source": [
    "plt.figure(figsize=(12, 6))\n",
    "plt.subplot(1, 2, 1)\n",
    "plt.plot(range(1, len(train_losses) + 1), train_losses, label='Train Loss', marker='o')\n",
    "plt.plot(range(1, len(test_losses) + 1), test_losses, label='Test Loss', marker='o')\n",
    "plt.title(\"Loss Curve\")\n",
    "plt.xlabel(\"Epoch\")\n",
    "plt.ylabel(\"Loss\")\n",
    "plt.legend()\n",
    "\n",
    "\n",
    "plt.subplot(1, 2, 2)\n",
    "plt.plot(range(1, len(train_accuracies) + 1), train_accuracies, label='Train Accuracy', marker='o')\n",
    "plt.plot(range(1, len(test_accuracies) + 1), test_accuracies, label='Test Accuracy', marker='o')\n",
    "plt.title(\"Accuracy Curve\")\n",
    "plt.xlabel(\"Epoch\")\n",
    "plt.ylabel(\"Accuracy\")\n",
    "plt.legend()\n",
    "plt.tight_layout()\n",
    "plt.show()\n",
    "\n",
    "print(\"Training completed!\")"
   ]
  }
 ],
 "metadata": {
  "kernelspec": {
   "display_name": "Python 3 (ipykernel)",
   "language": "python",
   "name": "python3"
  },
  "language_info": {
   "codemirror_mode": {
    "name": "ipython",
    "version": 3
   },
   "file_extension": ".py",
   "mimetype": "text/x-python",
   "name": "python",
   "nbconvert_exporter": "python",
   "pygments_lexer": "ipython3",
   "version": "3.13.1"
  }
 },
 "nbformat": 4,
 "nbformat_minor": 5
}
