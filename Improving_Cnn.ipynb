{
 "cells": [
  {
   "cell_type": "code",
   "execution_count": 1,
   "id": "48156123-4ff9-4cc0-9b8d-cafc29049d09",
   "metadata": {},
   "outputs": [],
   "source": [
    "#Improving Previous Model Accuracy"
   ]
  },
  {
   "cell_type": "code",
   "execution_count": 2,
   "id": "a0cae455-b9e1-4178-9b74-019496e4a587",
   "metadata": {},
   "outputs": [],
   "source": [
    "import os\n",
    "import zipfile\n",
    "import requests\n",
    "import torchvision\n",
    "from pathlib import Path\n",
    "from torchvision import datasets, transforms\n",
    "from torch.utils.data import DataLoader\n",
    "import torch\n",
    "from torch import nn\n",
    "from typing import Dict, List, Tuple\n",
    "import pandas as pd\n",
    "import matplotlib.pyplot as plt\n",
    "from torchinfo import summary"
   ]
  },
  {
   "cell_type": "code",
   "execution_count": 3,
   "id": "0cdff6dd-c377-4e6a-b37c-99dc9f9427a0",
   "metadata": {},
   "outputs": [],
   "source": [
    "data_path= Path(\"Food/\")\n",
    "image_path= data_path/\"pizza_steak_sushi\"\n",
    "\n",
    "# if image_path.is_dir():\n",
    "#     print(f\"{image_path} already exist.\")\n",
    "# else:\n",
    "#     image_path.mkdir(parents=True, exist_ok=True)\n",
    "\n",
    "    \n",
    "    \n",
    "##Iturnign off this to sae time\n",
    "# with open(data_path/\"pizza_steak_sushi.zip\", 'wb') as f:\n",
    "#     request = requests.get(\"https://github.com/mrdbourke/pytorch-deep-learning/raw/main/data/pizza_steak_sushi.zip\")\n",
    "#     print('downloading data')\n",
    "#     f.write(request.content)\n",
    "        \n",
    "# with zipfile.ZipFile(data_path/\"pizza_steak_sushi.zip\", \"r\") as zip_ref:\n",
    "#     print('Unzipping food data')\n",
    "#     zip_ref.extractall(image_path)"
   ]
  },
  {
   "cell_type": "code",
   "execution_count": 4,
   "id": "52d8851a-5cc1-44fd-8999-32dee269e5a8",
   "metadata": {},
   "outputs": [],
   "source": [
    "#removing zip file\n",
    "# os.remove(data_path / \"pizza_steak_sushi.zip\")"
   ]
  },
  {
   "cell_type": "code",
   "execution_count": 5,
   "id": "33267a77-00fb-4114-b2cc-c3b5c9aca05f",
   "metadata": {},
   "outputs": [],
   "source": [
    "#training and testing pth\n",
    "train_dir=image_path/'train'\n",
    "test_dir=image_path/'test'"
   ]
  },
  {
   "cell_type": "code",
   "execution_count": 6,
   "id": "dd99e080-9f55-47cb-b468-a7319f37a900",
   "metadata": {},
   "outputs": [
    {
     "data": {
      "text/plain": [
       "(WindowsPath('Food/pizza_steak_sushi/train'),\n",
       " WindowsPath('Food/pizza_steak_sushi/test'))"
      ]
     },
     "execution_count": 6,
     "metadata": {},
     "output_type": "execute_result"
    }
   ],
   "source": [
    "train_dir, test_dir"
   ]
  },
  {
   "cell_type": "code",
   "execution_count": 7,
   "id": "4c1beda3-6328-4795-8b6f-1cee18efcc11",
   "metadata": {},
   "outputs": [
    {
     "data": {
      "text/plain": [
       "(Dataset ImageFolder\n",
       "     Number of datapoints: 225\n",
       "     Root location: Food\\pizza_steak_sushi\\train\n",
       "     StandardTransform\n",
       " Transform: Compose(\n",
       "                Resize(size=(64, 64), interpolation=bilinear, max_size=None, antialias=True)\n",
       "                ToTensor()\n",
       "            ),\n",
       " Dataset ImageFolder\n",
       "     Number of datapoints: 80\n",
       "     Root location: Food\\pizza_steak_sushi\\test\n",
       "     StandardTransform\n",
       " Transform: Compose(\n",
       "                Resize(size=(64, 64), interpolation=bilinear, max_size=None, antialias=True)\n",
       "                ToTensor()\n",
       "            ))"
      ]
     },
     "execution_count": 7,
     "metadata": {},
     "output_type": "execute_result"
    }
   ],
   "source": [
    "#import datasets, transform\n",
    "data_transform=transforms.Compose([transforms.Resize((64, 64)),\n",
    "                                   transforms.ToTensor()])\n",
    "\n",
    "train_data = datasets.ImageFolder(root=train_dir,\n",
    "                                  transform=data_transform,\n",
    "                                  target_transform=None)\n",
    "\n",
    "test_data = datasets.ImageFolder(root=test_dir, \n",
    "                                 transform=data_transform)\n",
    "\n",
    "train_data, test_data"
   ]
  },
  {
   "cell_type": "code",
   "execution_count": 8,
   "id": "1c8cbd68-d849-4def-ad2e-fb6e21178424",
   "metadata": {},
   "outputs": [
    {
     "name": "stdout",
     "output_type": "stream",
     "text": [
      "Image shape: torch.Size([3, 64, 64]) -> [batch_size, color_channels, height, width]\n",
      "Image datatype: torch.float32\n",
      "Image label: 0\n",
      "Label datatype: <class 'int'>\n",
      "Image tensor:\n",
      "tensor([[[0.1176, 0.1216, 0.1255,  ..., 0.0980, 0.1020, 0.1137],\n",
      "         [0.1294, 0.1294, 0.1294,  ..., 0.0980, 0.0980, 0.1059],\n",
      "         [0.1333, 0.1333, 0.1333,  ..., 0.0941, 0.0980, 0.1020],\n",
      "         ...,\n",
      "         [0.1686, 0.1647, 0.1686,  ..., 0.1255, 0.1098, 0.1098],\n",
      "         [0.1686, 0.1647, 0.1686,  ..., 0.1098, 0.0941, 0.0902],\n",
      "         [0.1647, 0.1647, 0.1686,  ..., 0.0980, 0.0863, 0.0863]],\n",
      "\n",
      "        [[0.0588, 0.0588, 0.0588,  ..., 0.0745, 0.0706, 0.0745],\n",
      "         [0.0627, 0.0627, 0.0627,  ..., 0.0745, 0.0706, 0.0745],\n",
      "         [0.0706, 0.0706, 0.0706,  ..., 0.0745, 0.0745, 0.0706],\n",
      "         ...,\n",
      "         [0.2392, 0.2392, 0.2510,  ..., 0.1373, 0.1333, 0.1255],\n",
      "         [0.2314, 0.2392, 0.2510,  ..., 0.1255, 0.1176, 0.1098],\n",
      "         [0.2275, 0.2353, 0.2431,  ..., 0.1137, 0.1059, 0.1020]],\n",
      "\n",
      "        [[0.0196, 0.0196, 0.0157,  ..., 0.0902, 0.0902, 0.0941],\n",
      "         [0.0196, 0.0157, 0.0196,  ..., 0.0902, 0.0863, 0.0902],\n",
      "         [0.0196, 0.0157, 0.0157,  ..., 0.0902, 0.0902, 0.0902],\n",
      "         ...,\n",
      "         [0.1843, 0.1882, 0.1961,  ..., 0.1490, 0.1333, 0.1294],\n",
      "         [0.1804, 0.1843, 0.1922,  ..., 0.1255, 0.1137, 0.1098],\n",
      "         [0.1765, 0.1804, 0.1882,  ..., 0.1059, 0.0980, 0.1059]]])\n"
     ]
    }
   ],
   "source": [
    "img, label = train_data[0][0], train_data[0][1]\n",
    "print(f\"Image shape: {img.shape} -> [batch_size, color_channels, height, width]\")\n",
    "print(f\"Image datatype: {img.dtype}\")\n",
    "print(f\"Image label: {label}\")\n",
    "print(f\"Label datatype: {type(label)}\")\n",
    "print(f\"Image tensor:\\n{img}\")"
   ]
  },
  {
   "cell_type": "code",
   "execution_count": 9,
   "id": "14e04972-3809-4d8b-9f25-caf45358efef",
   "metadata": {},
   "outputs": [
    {
     "data": {
      "text/plain": [
       "['pizza', 'steak', 'sushi']"
      ]
     },
     "execution_count": 9,
     "metadata": {},
     "output_type": "execute_result"
    }
   ],
   "source": [
    "class_names=train_data.classes\n",
    "class_names"
   ]
  },
  {
   "cell_type": "code",
   "execution_count": 10,
   "id": "1d58c3dc-cf00-406d-87f6-00adb781fb27",
   "metadata": {},
   "outputs": [
    {
     "data": {
      "text/plain": [
       "{'pizza': 0, 'steak': 1, 'sushi': 2}"
      ]
     },
     "execution_count": 10,
     "metadata": {},
     "output_type": "execute_result"
    }
   ],
   "source": [
    "class_dict = train_data.class_to_idx\n",
    "class_dict"
   ]
  },
  {
   "cell_type": "code",
   "execution_count": 11,
   "id": "2767ded4-e9a7-4310-879a-3cd88202fcf2",
   "metadata": {},
   "outputs": [
    {
     "data": {
      "text/plain": [
       "(225, 80)"
      ]
     },
     "execution_count": 11,
     "metadata": {},
     "output_type": "execute_result"
    }
   ],
   "source": [
    "len(train_data), len(test_data)"
   ]
  },
  {
   "cell_type": "code",
   "execution_count": 12,
   "id": "ffda7d1a-2d6e-4560-9546-7ea00dde2657",
   "metadata": {},
   "outputs": [
    {
     "data": {
      "text/plain": [
       "(<torch.utils.data.dataloader.DataLoader at 0x23654f042f0>,\n",
       " <torch.utils.data.dataloader.DataLoader at 0x23653d73b10>)"
      ]
     },
     "execution_count": 12,
     "metadata": {},
     "output_type": "execute_result"
    }
   ],
   "source": [
    "# Turning Train and testing data into dataloaders\n",
    "train_dataloader= DataLoader(dataset=train_data,\n",
    "                             batch_size=32,\n",
    "                             num_workers=4,\n",
    "                             shuffle=True)\n",
    "\n",
    "test_dataloader= DataLoader(dataset=test_data,\n",
    "                            batch_size=32,\n",
    "                            num_workers=4,\n",
    "                            shuffle=False)\n",
    "train_dataloader, test_dataloader"
   ]
  },
  {
   "cell_type": "code",
   "execution_count": 13,
   "id": "8e8baa93-477c-48a8-8cb4-e9b97b56242b",
   "metadata": {},
   "outputs": [
    {
     "data": {
      "text/plain": [
       "(8, 3)"
      ]
     },
     "execution_count": 13,
     "metadata": {},
     "output_type": "execute_result"
    }
   ],
   "source": [
    "len(train_dataloader), len(test_dataloader),"
   ]
  },
  {
   "cell_type": "code",
   "execution_count": 14,
   "id": "8abe0fc9-8f53-4660-aee1-ef815888301c",
   "metadata": {},
   "outputs": [
    {
     "data": {
      "text/plain": [
       "(torch.Size([32, 3, 64, 64]), torch.Size([32]))"
      ]
     },
     "execution_count": 14,
     "metadata": {},
     "output_type": "execute_result"
    }
   ],
   "source": [
    "#checking\n",
    "img, label = next(iter(train_dataloader))\n",
    "img.shape, label.shape"
   ]
  },
  {
   "cell_type": "code",
   "execution_count": 15,
   "id": "3a6365ee-5f96-493e-a133-21268b75d520",
   "metadata": {},
   "outputs": [],
   "source": [
    "#Making Model"
   ]
  },
  {
   "cell_type": "code",
   "execution_count": 16,
   "id": "cc315ddc-cbfa-4d66-ae79-3c04c4e1624c",
   "metadata": {},
   "outputs": [],
   "source": [
    "class TinyVGG(nn.Module):\n",
    "    def __init__(self, input_shape:int, hidden_unit:int, output_shape:int)-> None:\n",
    "        super().__init__()\n",
    "        self.conv_bloc_1=nn.Sequential(nn.Conv2d(in_channels=input_shape,out_channels=hidden_unit,kernel_size=3, stride=1, padding=0),\n",
    "                                       nn.ReLU(),\n",
    "                                       nn.Conv2d(in_channels=hidden_unit, out_channels=hidden_unit, kernel_size=3, stride=1, padding=0),\n",
    "                                       nn.ReLU(),\n",
    "                                       nn.MaxPool2d(kernel_size=2, stride=2))\n",
    "        \n",
    "        self.conv_bloc_2=nn.Sequential(nn.Conv2d(hidden_unit, hidden_unit, kernel_size=3, padding=0),\n",
    "                                       nn.ReLU(),\n",
    "                                       nn.Conv2d(hidden_unit, hidden_unit, kernel_size=3, padding=0),\n",
    "                                       nn.ReLU(),\n",
    "                                       nn.MaxPool2d(2))\n",
    "        \n",
    "        self.classifier =nn.Sequential(nn.Flatten(),\n",
    "                                       nn.Linear(in_features=hidden_unit*13*13,out_features=output_shape)) #Hardcoded\n",
    "        \n",
    "    def forward(self, x:torch.tensor):\n",
    "        x=self.conv_bloc_1(x)\n",
    "        x=self.conv_bloc_2(x)\n",
    "        x=self.classifier(x)\n",
    "        return x"
   ]
  },
  {
   "cell_type": "code",
   "execution_count": 17,
   "id": "cd32fcfb-8449-4b46-8b93-d45b5b1bf455",
   "metadata": {},
   "outputs": [
    {
     "data": {
      "text/plain": [
       "TinyVGG(\n",
       "  (conv_bloc_1): Sequential(\n",
       "    (0): Conv2d(3, 10, kernel_size=(3, 3), stride=(1, 1))\n",
       "    (1): ReLU()\n",
       "    (2): Conv2d(10, 10, kernel_size=(3, 3), stride=(1, 1))\n",
       "    (3): ReLU()\n",
       "    (4): MaxPool2d(kernel_size=2, stride=2, padding=0, dilation=1, ceil_mode=False)\n",
       "  )\n",
       "  (conv_bloc_2): Sequential(\n",
       "    (0): Conv2d(10, 10, kernel_size=(3, 3), stride=(1, 1))\n",
       "    (1): ReLU()\n",
       "    (2): Conv2d(10, 10, kernel_size=(3, 3), stride=(1, 1))\n",
       "    (3): ReLU()\n",
       "    (4): MaxPool2d(kernel_size=2, stride=2, padding=0, dilation=1, ceil_mode=False)\n",
       "  )\n",
       "  (classifier): Sequential(\n",
       "    (0): Flatten(start_dim=1, end_dim=-1)\n",
       "    (1): Linear(in_features=1690, out_features=3, bias=True)\n",
       "  )\n",
       ")"
      ]
     },
     "execution_count": 17,
     "metadata": {},
     "output_type": "execute_result"
    }
   ],
   "source": [
    "torch.manual_seed(42)\n",
    "model_1=TinyVGG(input_shape=3, hidden_unit=10, output_shape=len(train_data.classes))\n",
    "model_1"
   ]
  },
  {
   "cell_type": "code",
   "execution_count": 18,
   "id": "579f0101-5d58-4496-b323-dc91fe4a525a",
   "metadata": {},
   "outputs": [],
   "source": [
    "# To test our model"
   ]
  },
  {
   "cell_type": "code",
   "execution_count": 19,
   "id": "85276a3b-1fd7-461e-8d4e-369c6cdce30f",
   "metadata": {},
   "outputs": [
    {
     "data": {
      "text/plain": [
       "torch.Size([1, 3, 64, 64])"
      ]
     },
     "execution_count": 19,
     "metadata": {},
     "output_type": "execute_result"
    }
   ],
   "source": [
    "img_batch, batch_label=next(iter(train_dataloader))\n",
    "img_single, label_single=img_batch[0].unsqueeze(dim=0), batch_label[0]\n",
    "img_single.shape"
   ]
  },
  {
   "cell_type": "code",
   "execution_count": 20,
   "id": "9075ac94-3a47-46a0-98c3-46251ffa1362",
   "metadata": {},
   "outputs": [
    {
     "name": "stdout",
     "output_type": "stream",
     "text": [
      "Output logits:\n",
      "tensor([[ 0.0208, -0.0020,  0.0095]])\n",
      "\n",
      "Output prediction probabilities:\n",
      "tensor([[0.3371, 0.3295, 0.3333]])\n",
      "\n",
      "Output prediction label:\n",
      "tensor([0])\n",
      "\n",
      "Actual label:\n",
      "0\n"
     ]
    }
   ],
   "source": [
    "model_1.eval()\n",
    "with torch.inference_mode():\n",
    "    pred=model_1(img_single)\n",
    "\n",
    "print(f\"Output logits:\\n{pred}\\n\")\n",
    "print(f\"Output prediction probabilities:\\n{torch.softmax(pred, dim=1)}\\n\")\n",
    "print(f\"Output prediction label:\\n{torch.argmax(torch.softmax(pred, dim=1), dim=1)}\\n\")\n",
    "print(f\"Actual label:\\n{label_single}\")"
   ]
  },
  {
   "cell_type": "code",
   "execution_count": 21,
   "id": "c38e3903-30f1-4d10-9c49-946f20bf393b",
   "metadata": {},
   "outputs": [],
   "source": [
    "#making train"
   ]
  },
  {
   "cell_type": "code",
   "execution_count": 22,
   "id": "9c50c03e-f2a8-45ec-9495-fd79f37fbfb3",
   "metadata": {},
   "outputs": [],
   "source": [
    "def train_step(model: torch.nn.Module,\n",
    "               dataloader:torch.utils.data.DataLoader,\n",
    "               loss_fn:torch.nn.Module,\n",
    "               optimizer: torch.optim.Optimizer)-> Tuple[float, float]:\n",
    "    model.train()\n",
    "    train_loss, train_acc=0,0\n",
    "\n",
    "    for batch, (X, y) in enumerate(dataloader):\n",
    "        y_pred = model(X)\n",
    "\n",
    "        loss=loss_fn(y_pred, y)\n",
    "        train_loss+=loss.item()\n",
    "\n",
    "        optimizer.zero_grad()\n",
    "        loss.backward()\n",
    "        optimizer.step()\n",
    "\n",
    "        y_pred_class=torch.argmax(torch.softmax(y_pred, dim=1), dim=1)\n",
    "        train_acc += (y_pred_class==y).sum().item()/len(y_pred)\n",
    "\n",
    "    train_loss= train_loss/len(dataloader)\n",
    "    train_acc= train_acc/len(dataloader)\n",
    "\n",
    "    return train_loss, train_acc"
   ]
  },
  {
   "cell_type": "code",
   "execution_count": 23,
   "id": "77940673-a5a8-4242-b051-7e7cd1fd3d47",
   "metadata": {},
   "outputs": [],
   "source": [
    "def test_step(model: torch.nn.Module,\n",
    "              dataloader: torch.utils.data.DataLoader,\n",
    "              loss_fn:torch.nn.Module) -> Tuple[float, float]:\n",
    "    model.eval()\n",
    "    test_loss, test_acc = 0, 0\n",
    "    with torch.inference_mode():\n",
    "        for X, y in dataloader:\n",
    "            test_pred_logits = model(X)\n",
    "\n",
    "            loss=loss_fn(test_pred_logits, y)\n",
    "            test_loss+=loss.item()\n",
    "\n",
    "            test_pred_labels= test_pred_logits.argmax(dim=1)\n",
    "            test_acc += ((test_pred_labels==y).sum().item()/len(test_pred_labels))\n",
    "\n",
    "    test_loss=test_loss/len(dataloader)\n",
    "    test_acc=test_acc/len(dataloader)\n",
    "    return test_loss, test_acc"
   ]
  },
  {
   "cell_type": "code",
   "execution_count": 24,
   "id": "8eb8bcc4-5e28-492c-9c53-cefd988619e9",
   "metadata": {},
   "outputs": [],
   "source": [
    "def train(model:torch.nn.Module,\n",
    "          train_dataloader:torch.utils.data.DataLoader,\n",
    "          test_dataloader:torch.utils.data.DataLoader,\n",
    "          loss_fn: torch.nn.Module,\n",
    "          optimizer:torch.optim.Optimizer,\n",
    "          epochs:int)-> Dict[str, list[float]]:\n",
    "\n",
    "    \n",
    "    results={\"train_loss\": [],\n",
    "             \"train_acc\" : [],\n",
    "             \"test_loss\" : [],\n",
    "             \"test_acc\" : []}\n",
    "    \n",
    "    for epoch in range(epochs):\n",
    "        train_loss, train_acc= train_step(model=model,\n",
    "                                          dataloader=train_dataloader,\n",
    "                                          loss_fn=loss_fn,\n",
    "                                          optimizer=optimizer)\n",
    "                                          \n",
    "        test_loss, test_acc = test_step(model=model,\n",
    "                                        dataloader=test_dataloader,\n",
    "                                        loss_fn=loss_fn)\n",
    "        \n",
    "                                          \n",
    "        print(f\"Epochs : {epoch+1} | \"\n",
    "              f\"Train_loss : {train_loss :4f} | \"\n",
    "              f\"Train_acc : {train_acc:.4f} | \"\n",
    "              f\"Test_loss : {test_loss:.4f} | \"\n",
    "              f\"Test_acc : {test_acc:.4f}\")\n",
    "        results[\"train_loss\"].append(train_loss)\n",
    "        results[\"train_acc\"].append(train_acc)\n",
    "        results[\"test_loss\"].append(test_loss)\n",
    "        results[\"test_acc\"].append(test_acc)\n",
    "                                          \n",
    "    return results                                        "
   ]
  },
  {
   "cell_type": "code",
   "execution_count": 25,
   "id": "cf3dd04e-0474-474f-b858-0636f5860bd7",
   "metadata": {},
   "outputs": [
    {
     "name": "stdout",
     "output_type": "stream",
     "text": [
      "Epochs : 1 | Train_loss : 1.103653 | Train_acc : 0.3320 | Test_loss : 1.0796 | Test_acc : 0.3021\n",
      "Epochs : 2 | Train_loss : 1.027307 | Train_acc : 0.4023 | Test_loss : 1.0483 | Test_acc : 0.3542\n",
      "Epochs : 3 | Train_loss : 0.813809 | Train_acc : 0.6211 | Test_loss : 1.0670 | Test_acc : 0.4271\n",
      "Epochs : 4 | Train_loss : 0.750519 | Train_acc : 0.6523 | Test_loss : 1.0922 | Test_acc : 0.4688\n",
      "Epochs : 5 | Train_loss : 0.765454 | Train_acc : 0.7031 | Test_loss : 1.3925 | Test_acc : 0.3750\n",
      "Epochs : 6 | Train_loss : 0.893670 | Train_acc : 0.6406 | Test_loss : 1.0465 | Test_acc : 0.4896\n",
      "Epochs : 7 | Train_loss : 0.790244 | Train_acc : 0.7266 | Test_loss : 1.0526 | Test_acc : 0.5000\n",
      "Epochs : 8 | Train_loss : 0.798508 | Train_acc : 0.5859 | Test_loss : 1.0764 | Test_acc : 0.4896\n",
      "Epochs : 9 | Train_loss : 0.854056 | Train_acc : 0.4805 | Test_loss : 1.0388 | Test_acc : 0.4167\n",
      "Epochs : 10 | Train_loss : 0.901914 | Train_acc : 0.5469 | Test_loss : 1.0584 | Test_acc : 0.4479\n"
     ]
    }
   ],
   "source": [
    "torch.manual_seed(42)\n",
    "\n",
    "model_1 = TinyVGG(input_shape=3,\n",
    "                  hidden_unit=64,\n",
    "                  output_shape=len(train_data.classes))\n",
    "\n",
    "loss_fn = torch.nn.CrossEntropyLoss()\n",
    "optimizer = torch.optim.Adam(model_1.parameters(), lr=0.001, weight_decay=1e-4)\n",
    "\n",
    "\n",
    "results = train(model=model_1,\n",
    "                train_dataloader=train_dataloader,\n",
    "                test_dataloader=test_dataloader,\n",
    "                loss_fn=loss_fn,\n",
    "                optimizer=optimizer,\n",
    "                epochs=10)"
   ]
  },
  {
   "cell_type": "code",
   "execution_count": 26,
   "id": "58e7e171-6514-4e39-b9d5-40a5102a441d",
   "metadata": {},
   "outputs": [
    {
     "data": {
      "text/html": [
       "<div>\n",
       "<style scoped>\n",
       "    .dataframe tbody tr th:only-of-type {\n",
       "        vertical-align: middle;\n",
       "    }\n",
       "\n",
       "    .dataframe tbody tr th {\n",
       "        vertical-align: top;\n",
       "    }\n",
       "\n",
       "    .dataframe thead th {\n",
       "        text-align: right;\n",
       "    }\n",
       "</style>\n",
       "<table border=\"1\" class=\"dataframe\">\n",
       "  <thead>\n",
       "    <tr style=\"text-align: right;\">\n",
       "      <th></th>\n",
       "      <th>train_loss</th>\n",
       "      <th>train_acc</th>\n",
       "      <th>test_loss</th>\n",
       "      <th>test_acc</th>\n",
       "    </tr>\n",
       "  </thead>\n",
       "  <tbody>\n",
       "    <tr>\n",
       "      <th>0</th>\n",
       "      <td>1.103653</td>\n",
       "      <td>0.332031</td>\n",
       "      <td>1.079550</td>\n",
       "      <td>0.302083</td>\n",
       "    </tr>\n",
       "    <tr>\n",
       "      <th>1</th>\n",
       "      <td>1.027307</td>\n",
       "      <td>0.402344</td>\n",
       "      <td>1.048275</td>\n",
       "      <td>0.354167</td>\n",
       "    </tr>\n",
       "    <tr>\n",
       "      <th>2</th>\n",
       "      <td>0.813809</td>\n",
       "      <td>0.621094</td>\n",
       "      <td>1.066989</td>\n",
       "      <td>0.427083</td>\n",
       "    </tr>\n",
       "    <tr>\n",
       "      <th>3</th>\n",
       "      <td>0.750519</td>\n",
       "      <td>0.652344</td>\n",
       "      <td>1.092224</td>\n",
       "      <td>0.468750</td>\n",
       "    </tr>\n",
       "    <tr>\n",
       "      <th>4</th>\n",
       "      <td>0.765454</td>\n",
       "      <td>0.703125</td>\n",
       "      <td>1.392512</td>\n",
       "      <td>0.375000</td>\n",
       "    </tr>\n",
       "    <tr>\n",
       "      <th>5</th>\n",
       "      <td>0.893670</td>\n",
       "      <td>0.640625</td>\n",
       "      <td>1.046533</td>\n",
       "      <td>0.489583</td>\n",
       "    </tr>\n",
       "    <tr>\n",
       "      <th>6</th>\n",
       "      <td>0.790244</td>\n",
       "      <td>0.726562</td>\n",
       "      <td>1.052611</td>\n",
       "      <td>0.500000</td>\n",
       "    </tr>\n",
       "    <tr>\n",
       "      <th>7</th>\n",
       "      <td>0.798508</td>\n",
       "      <td>0.585938</td>\n",
       "      <td>1.076416</td>\n",
       "      <td>0.489583</td>\n",
       "    </tr>\n",
       "    <tr>\n",
       "      <th>8</th>\n",
       "      <td>0.854056</td>\n",
       "      <td>0.480469</td>\n",
       "      <td>1.038844</td>\n",
       "      <td>0.416667</td>\n",
       "    </tr>\n",
       "    <tr>\n",
       "      <th>9</th>\n",
       "      <td>0.901914</td>\n",
       "      <td>0.546875</td>\n",
       "      <td>1.058364</td>\n",
       "      <td>0.447917</td>\n",
       "    </tr>\n",
       "  </tbody>\n",
       "</table>\n",
       "</div>"
      ],
      "text/plain": [
       "   train_loss  train_acc  test_loss  test_acc\n",
       "0    1.103653   0.332031   1.079550  0.302083\n",
       "1    1.027307   0.402344   1.048275  0.354167\n",
       "2    0.813809   0.621094   1.066989  0.427083\n",
       "3    0.750519   0.652344   1.092224  0.468750\n",
       "4    0.765454   0.703125   1.392512  0.375000\n",
       "5    0.893670   0.640625   1.046533  0.489583\n",
       "6    0.790244   0.726562   1.052611  0.500000\n",
       "7    0.798508   0.585938   1.076416  0.489583\n",
       "8    0.854056   0.480469   1.038844  0.416667\n",
       "9    0.901914   0.546875   1.058364  0.447917"
      ]
     },
     "execution_count": 26,
     "metadata": {},
     "output_type": "execute_result"
    }
   ],
   "source": [
    "model_1_df = pd.DataFrame(results)\n",
    "model_1_df"
   ]
  },
  {
   "cell_type": "code",
   "execution_count": 27,
   "id": "79e8e585-f428-4e6c-a934-88525f73d270",
   "metadata": {},
   "outputs": [
    {
     "data": {
      "text/plain": [
       "==========================================================================================\n",
       "Layer (type:depth-idx)                   Output Shape              Param #\n",
       "==========================================================================================\n",
       "TinyVGG                                  [1, 3]                    --\n",
       "├─Sequential: 1-1                        [1, 64, 30, 30]           --\n",
       "│    └─Conv2d: 2-1                       [1, 64, 62, 62]           1,792\n",
       "│    └─ReLU: 2-2                         [1, 64, 62, 62]           --\n",
       "│    └─Conv2d: 2-3                       [1, 64, 60, 60]           36,928\n",
       "│    └─ReLU: 2-4                         [1, 64, 60, 60]           --\n",
       "│    └─MaxPool2d: 2-5                    [1, 64, 30, 30]           --\n",
       "├─Sequential: 1-2                        [1, 64, 13, 13]           --\n",
       "│    └─Conv2d: 2-6                       [1, 64, 28, 28]           36,928\n",
       "│    └─ReLU: 2-7                         [1, 64, 28, 28]           --\n",
       "│    └─Conv2d: 2-8                       [1, 64, 26, 26]           36,928\n",
       "│    └─ReLU: 2-9                         [1, 64, 26, 26]           --\n",
       "│    └─MaxPool2d: 2-10                   [1, 64, 13, 13]           --\n",
       "├─Sequential: 1-3                        [1, 3]                    --\n",
       "│    └─Flatten: 2-11                     [1, 10816]                --\n",
       "│    └─Linear: 2-12                      [1, 3]                    32,451\n",
       "==========================================================================================\n",
       "Total params: 145,027\n",
       "Trainable params: 145,027\n",
       "Non-trainable params: 0\n",
       "Total mult-adds (Units.MEGABYTES): 193.78\n",
       "==========================================================================================\n",
       "Input size (MB): 0.05\n",
       "Forward/backward pass size (MB): 4.56\n",
       "Params size (MB): 0.58\n",
       "Estimated Total Size (MB): 5.19\n",
       "=========================================================================================="
      ]
     },
     "execution_count": 27,
     "metadata": {},
     "output_type": "execute_result"
    }
   ],
   "source": [
    "summary(model_1,input_size=[1, 3, 64, 64])"
   ]
  },
  {
   "cell_type": "code",
   "execution_count": 28,
   "id": "c30f30d9-d877-41ea-b131-2e2ac1d3d25e",
   "metadata": {},
   "outputs": [
    {
     "data": {
      "image/png": "[encoded data removed]",
      "text/plain": [
       "<Figure size 800x600 with 1 Axes>"
      ]
     },
     "metadata": {},
     "output_type": "display_data"
    }
   ],
   "source": [
    "plt.figure(figsize=(8,6))\n",
    "plt.plot(model_1_df[\"train_loss\"], label=\"Train Loss\", marker=\"o\", linestyle=\"-\")\n",
    "plt.plot(model_1_df[\"test_loss\"], label=\"Test Loss\", marker=\"s\", linestyle=\"--\")\n",
    "\n",
    "plt.xlabel(\"Epochs\")\n",
    "plt.ylabel(\"Loss\")\n",
    "plt.title(\"Train vs Test Loss Curve\")\n",
    "plt.legend()\n",
    "plt.grid(True)\n",
    "plt.show()"
   ]
  },
  {
   "cell_type": "markdown",
   "id": "f2a88a7d-08cf-4709-aaf7-4bb7fc18e5d0",
   "metadata": {},
   "source": [
    "## Making a new model"
   ]
  },
  {
   "cell_type": "code",
   "execution_count": 29,
   "id": "fd126010-3a6c-4f32-9f41-12e14f9ce2f1",
   "metadata": {},
   "outputs": [],
   "source": [
    "# train_transform = transforms.Compose([transforms.Resize((128, 128)),\n",
    "#                                       transforms.RandomHorizontalFlip(p=0.5),\n",
    "#                                       transforms.RandomAffine(degrees=0, translate=(0.1, 0.1)),  transforms.ToTensor()])\n",
    "# test_transform = transforms.Compose([transforms.Resize((64, 64)),\n",
    "#                                      transforms.ToTensor()])\n",
    "\n",
    "\n",
    "# from torchvision import transforms\n",
    "\n",
    "# # Improved Train Transform (Data Augmentation)\n",
    "# train_transform = transforms.Compose([transforms.Resize((128, 128)),\n",
    "#                                       transforms.RandomHorizontalFlip(p=0.5),\n",
    "#                                       transforms.RandomRotation(degrees=15),\n",
    "#                                       transforms.RandomAffine(degrees=0,translate=(0.1, 0.1)),\n",
    "#                                       transforms.ColorJitter(brightness=0.2, contrast=0.2),\n",
    "#                                       transforms.RandomPerspective(distortion_scale=0.1, p=0.5),\n",
    "#                                       transforms.ToTensor(),  \n",
    "#                                       transforms.Normalize(mean=[0.5, 0.5, 0.5], std=[0.5, 0.5, 0.5])])\n",
    "\n",
    "# # Improved Test Transform (No Augmentation, Just Resize & Normalize)\n",
    "# test_transform = transforms.Compose([transforms.Resize((128, 128)),\n",
    "#                                      transforms.ToTensor(),\n",
    "#                                      transforms.Normalize(mean=[0.5, 0.5, 0.5], std=[0.5, 0.5, 0.5])])\n"
   ]
  },
  {
   "cell_type": "code",
   "execution_count": 30,
   "id": "690855cd-bb57-4a4f-8ff6-f34148d6325f",
   "metadata": {},
   "outputs": [],
   "source": [
    "# train_transform, test_transform"
   ]
  },
  {
   "cell_type": "code",
   "execution_count": 31,
   "id": "1282a83d-0071-4c21-a1ae-3fba99b667ca",
   "metadata": {},
   "outputs": [
    {
     "data": {
      "text/plain": [
       "(WindowsPath('Food/pizza_steak_sushi/train'),\n",
       " WindowsPath('Food/pizza_steak_sushi/test'))"
      ]
     },
     "execution_count": 31,
     "metadata": {},
     "output_type": "execute_result"
    }
   ],
   "source": [
    "train_dir, test_dir"
   ]
  },
  {
   "cell_type": "code",
   "execution_count": 32,
   "id": "84f1d803-a314-409d-a61e-e58319e2fd4e",
   "metadata": {},
   "outputs": [],
   "source": [
    "# train_dataset = datasets.ImageFolder(root=train_dir,\n",
    "#                                      transform=train_transform)\n",
    "\n",
    "# test_dataset = datasets.ImageFolder(root=test_dir,\n",
    "#                                     transform=test_transform)\n",
    "# train_data, test_data"
   ]
  },
  {
   "cell_type": "code",
   "execution_count": 33,
   "id": "1ba2f344-cfb0-43ca-8164-139064eda26e",
   "metadata": {},
   "outputs": [],
   "source": [
    "# class ImprovedVGG(nn.Module):\n",
    "#     def __init__(self, input_shape, hidden_units, output_shape):\n",
    "#         super().__init__()\n",
    "#         self.conv_block_1 = nn.Sequential(\n",
    "#             nn.Conv2d(in_channels=input_shape, out_channels=hidden_units, kernel_size=3, stride=1, padding=0),\n",
    "#             nn.ReLU(),\n",
    "#             nn.Conv2d(in_channels=hidden_units, out_channels=hidden_units, kernel_size=3, stride=1, padding=0),\n",
    "#             nn.ReLU(),\n",
    "#             nn.MaxPool2d(kernel_size=2, stride=2)\n",
    "#         )\n",
    "#         self.conv_block_2 = nn.Sequential(\n",
    "#             nn.Conv2d(in_channels=hidden_units, out_channels=hidden_units * 2, kernel_size=3, stride=1, padding=0),\n",
    "#             nn.ReLU(),\n",
    "#             nn.Conv2d(in_channels=hidden_units * 2, out_channels=hidden_units * 2, kernel_size=3, stride=1, padding=0),\n",
    "#             nn.ReLU(),\n",
    "#             nn.MaxPool2d(kernel_size=2, stride=2)\n",
    "#         )\n",
    "\n",
    "#         self.flatten = nn.Flatten()\n",
    "#         self.fc1 = nn.Linear(self._get_flattened_size((3, 64, 64), hidden_units), 512)\n",
    "#         self.fc2 = nn.Linear(512, output_shape)\n",
    "#         self.dropout = nn.Dropout(0.5)\n",
    "#         self.relu = nn.ReLU()\n",
    "\n",
    "#     def _get_flattened_size(self, input_shape, hidden_units):\n",
    "#         \"\"\" Forward pass a dummy tensor to calculate the flattened size dynamically. \"\"\"\n",
    "#         with torch.no_grad():\n",
    "#             x = torch.zeros(1, *input_shape)\n",
    "#             x = self.conv_block_1(x)\n",
    "#             x = self.conv_block_2(x)\n",
    "#             return x.view(1, -1).shape[1]\n",
    "\n",
    "#     def forward(self, x):\n",
    "#         x = self.conv_block_1(x)\n",
    "#         x = self.conv_block_2(x)\n",
    "#         x = self.flatten(x)\n",
    "#         x = self.fc1(x)\n",
    "#         x = self.relu(x)\n",
    "#         x = self.dropout(x)\n",
    "#         x = self.fc2(x)\n",
    "#         return x\n"
   ]
  },
  {
   "cell_type": "code",
   "execution_count": 34,
   "id": "becd3dee-c239-4e15-b87c-71c4259f8f61",
   "metadata": {},
   "outputs": [],
   "source": [
    "# optimizer = torch.optim.Adam(model_1.parameters(), lr=0.01, weight_decay=1e-4)"
   ]
  },
  {
   "cell_type": "code",
   "execution_count": 35,
   "id": "b4f2dd91-6347-405e-bc82-18cb30b7a1c0",
   "metadata": {},
   "outputs": [],
   "source": [
    "# from torch.utils.data.sampler import WeightedRandomSampler\n",
    "\n",
    "\n",
    "# class_counts = torch.bincount(torch.tensor(train_data.targets))\n",
    "# class_weights = 1.0 / class_counts\n",
    "# sample_weights = class_weights[train_data.targets]\n",
    "# sampler = WeightedRandomSampler(sample_weights, num_samples=len(sample_weights), replacement=True)\n",
    "# train_loader = torch.utils.data.DataLoader(train_data, batch_size=32, sampler=sampler)"
   ]
  },
  {
   "cell_type": "code",
   "execution_count": 36,
   "id": "e7b0e513-5c58-4816-a5b4-54d1f38d9caf",
   "metadata": {},
   "outputs": [],
   "source": [
    "# torch.manual_seed(42)\n",
    "# model_2 = ImprovedVGG(input_shape=3, hidden_units=64, output_shape=len(train_data.classes))\n",
    "\n",
    "# optimizer = torch.optim.Adam(model_2.parameters(), lr=0.01, weight_decay=1e-4)\n",
    "# scheduler = torch.optim.lr_scheduler.StepLR(optimizer, step_size=5, gamma=0.5)\n",
    "# loss_fn = nn.CrossEntropyLoss()\n",
    "\n",
    "# results_2 = train(model_2,\n",
    "#                 train_dataloader,\n",
    "#                 test_dataloader,\n",
    "#                 loss_fn,\n",
    "#                 optimizer,\n",
    "#                 epochs=10)"
   ]
  },
  {
   "cell_type": "markdown",
   "id": "68e47570-ce93-444a-91ff-9035baafe3e8",
   "metadata": {},
   "source": [
    "## IMproving model"
   ]
  },
  {
   "cell_type": "code",
   "execution_count": 37,
   "id": "1cd49b03-8bca-4095-bbac-4753ebd475c3",
   "metadata": {},
   "outputs": [],
   "source": [
    "from torchvision.transforms import InterpolationMode\n",
    "\n",
    "train_transform = transforms.Compose([transforms.Resize((64, 64),interpolation=InterpolationMode.BILINEAR,antialias=True),  # Ensure consistency\n",
    "                                      transforms.RandomHorizontalFlip(p=0.5),\n",
    "                                      transforms.RandomRotation(degrees=15, interpolation=InterpolationMode.NEAREST, fill=0),\n",
    "                                      transforms.RandomAffine(degrees=0, translate=(0.1, 0.1), fill=0),\n",
    "                                      transforms.ColorJitter(brightness=0.3, contrast=0.3),\n",
    "                                      transforms.RandomPerspective(distortion_scale=0.1, p=0.5),\n",
    "                                      transforms.ToTensor(),\n",
    "                                      transforms.Normalize(mean=[0.5, 0.5, 0.5], std=[0.5, 0.5, 0.5])])\n",
    "\n",
    "test_transform = transforms.Compose([transforms.Resize((64, 64), interpolation=InterpolationMode.BILINEAR, antialias=True),\n",
    "                                     transforms.ToTensor(),\n",
    "                                     transforms.Normalize(mean=[0.5, 0.5, 0.5], std=[0.5, 0.5, 0.5])])"
   ]
  },
  {
   "cell_type": "code",
   "execution_count": 38,
   "id": "c27172b8-ef8e-42e9-855d-cbd609c07b00",
   "metadata": {},
   "outputs": [
    {
     "data": {
      "text/plain": [
       "(WindowsPath('Food/pizza_steak_sushi/train'),\n",
       " WindowsPath('Food/pizza_steak_sushi/test'))"
      ]
     },
     "execution_count": 38,
     "metadata": {},
     "output_type": "execute_result"
    }
   ],
   "source": [
    "train_dir,test_dir"
   ]
  },
  {
   "cell_type": "code",
   "execution_count": 39,
   "id": "aeb75007-55ec-446e-bc28-50d410be643a",
   "metadata": {},
   "outputs": [
    {
     "name": "stdout",
     "output_type": "stream",
     "text": [
      "Train dataset: 225 images\n",
      "Test dataset: 80 images\n",
      "Classes: ['pizza', 'steak', 'sushi']\n"
     ]
    }
   ],
   "source": [
    "train_dataset = datasets.ImageFolder(root=train_dir,\n",
    "                                     transform=train_transform)\n",
    "test_dataset = datasets.ImageFolder(root=test_dir,\n",
    "                                    transform=test_transform)\n",
    "\n",
    "train_loader = DataLoader(train_dataset,\n",
    "                          batch_size=32,\n",
    "                          shuffle=True,\n",
    "                          num_workers=4)\n",
    "\n",
    "test_loader = DataLoader(test_dataset,\n",
    "                         batch_size=32,\n",
    "                         shuffle=False,\n",
    "                         num_workers=4)\n",
    "\n",
    "print(f\"Train dataset: {len(train_dataset)} images\")\n",
    "print(f\"Test dataset: {len(test_dataset)} images\")\n",
    "print(f\"Classes: {train_dataset.classes}\")"
   ]
  },
  {
   "cell_type": "code",
   "execution_count": 40,
   "id": "978c7d40-f3d3-455a-90ec-f3aa36a6a0c2",
   "metadata": {},
   "outputs": [
    {
     "name": "stdout",
     "output_type": "stream",
     "text": [
      "ImprovedVGG(\n",
      "  (conv_block_1): Sequential(\n",
      "    (0): Conv2d(3, 64, kernel_size=(3, 3), stride=(1, 1), padding=(1, 1))\n",
      "    (1): BatchNorm2d(64, eps=1e-05, momentum=0.1, affine=True, track_running_stats=True)\n",
      "    (2): LeakyReLU(negative_slope=0.1)\n",
      "    (3): Conv2d(64, 64, kernel_size=(3, 3), stride=(1, 1), padding=(1, 1))\n",
      "    (4): BatchNorm2d(64, eps=1e-05, momentum=0.1, affine=True, track_running_stats=True)\n",
      "    (5): LeakyReLU(negative_slope=0.1)\n",
      "    (6): MaxPool2d(kernel_size=2, stride=2, padding=0, dilation=1, ceil_mode=False)\n",
      "  )\n",
      "  (conv_block_2): Sequential(\n",
      "    (0): Conv2d(64, 128, kernel_size=(3, 3), stride=(1, 1), padding=(1, 1))\n",
      "    (1): BatchNorm2d(128, eps=1e-05, momentum=0.1, affine=True, track_running_stats=True)\n",
      "    (2): LeakyReLU(negative_slope=0.1)\n",
      "    (3): Conv2d(128, 128, kernel_size=(3, 3), stride=(1, 1), padding=(1, 1))\n",
      "    (4): BatchNorm2d(128, eps=1e-05, momentum=0.1, affine=True, track_running_stats=True)\n",
      "    (5): LeakyReLU(negative_slope=0.1)\n",
      "    (6): MaxPool2d(kernel_size=2, stride=2, padding=0, dilation=1, ceil_mode=False)\n",
      "  )\n",
      "  (flatten): Flatten(start_dim=1, end_dim=-1)\n",
      "  (fc1): Linear(in_features=32768, out_features=512, bias=True)\n",
      "  (fc2): Linear(in_features=512, out_features=3, bias=True)\n",
      "  (dropout): Dropout(p=0.5, inplace=False)\n",
      "  (leaky_relu): LeakyReLU(negative_slope=0.1)\n",
      ")\n"
     ]
    }
   ],
   "source": [
    "class ImprovedVGG(nn.Module):\n",
    "    def __init__(self, input_shape, hidden_units, output_shape):\n",
    "        super().__init__()\n",
    "        self.conv_block_1 = nn.Sequential(nn.Conv2d(in_channels=input_shape, out_channels=hidden_units, kernel_size=3, stride=1, padding=1),\n",
    "                                          nn.BatchNorm2d(hidden_units),\n",
    "                                          nn.LeakyReLU(0.1),\n",
    "                                          nn.Conv2d(in_channels=hidden_units, out_channels=hidden_units, kernel_size=3, stride=1, padding=1),\n",
    "                                          nn.BatchNorm2d(hidden_units),\n",
    "                                          nn.LeakyReLU(0.1),\n",
    "                                          nn.MaxPool2d(kernel_size=2, stride=2))\n",
    "\n",
    "        self.conv_block_2 = nn.Sequential(nn.Conv2d(in_channels=hidden_units, out_channels=hidden_units * 2, kernel_size=3, stride=1, padding=1),\n",
    "                                          nn.BatchNorm2d(hidden_units * 2),\n",
    "                                          nn.LeakyReLU(0.1),\n",
    "                                          nn.Conv2d(in_channels=hidden_units * 2, out_channels=hidden_units * 2, kernel_size=3, stride=1, padding=1),\n",
    "                                          nn.BatchNorm2d(hidden_units * 2),\n",
    "                                          nn.LeakyReLU(0.1),\n",
    "                                          nn.MaxPool2d(kernel_size=2, stride=2))\n",
    "        # Flatten Layers\n",
    "        self.flatten = nn.Flatten()\n",
    "        flattened_size = self._get_flattened_size((3, 64, 64), hidden_units)\n",
    "        self.fc1 = nn.Linear(flattened_size, 512)\n",
    "        self.fc2 = nn.Linear(512, output_shape)\n",
    "        self.dropout = nn.Dropout(0.5)\n",
    "        self.leaky_relu = nn.LeakyReLU(0.1)\n",
    "\n",
    "    def _get_flattened_size(self, input_shape, hidden_units):\n",
    "        \"\"\" Forward pass a dummy tensor to calculate the flattened size dynamically. \"\"\"\n",
    "        with torch.no_grad():\n",
    "            x = torch.zeros(1, *input_shape)\n",
    "            x = self.conv_block_1(x)\n",
    "            x = self.conv_block_2(x)\n",
    "            return x.view(1, -1).shape[1]\n",
    "\n",
    "    def forward(self, x):\n",
    "        x = self.conv_block_1(x)\n",
    "        x = self.conv_block_2(x)\n",
    "        x = self.flatten(x)\n",
    "        x = self.fc1(x)\n",
    "        x = self.leaky_relu(x)\n",
    "        x = self.dropout(x)\n",
    "        x = self.fc2(x)\n",
    "        return x\n",
    "\n",
    "# 🔹 Model Initialization\n",
    "model = ImprovedVGG(input_shape=3, hidden_units=64, output_shape=len(train_dataset.classes))\n",
    "print(model)"
   ]
  },
  {
   "cell_type": "code",
   "execution_count": 41,
   "id": "aef5a0a1-a685-4d4e-907c-6eec104d724e",
   "metadata": {},
   "outputs": [
    {
     "name": "stdout",
     "output_type": "stream",
     "text": [
      "32\n"
     ]
    }
   ],
   "source": [
    "img_batch, batch_label=next(iter(train_dataloader))\n",
    "print(len(img_batch))"
   ]
  },
  {
   "cell_type": "code",
   "execution_count": 42,
   "id": "0009beab-0c63-4158-a09e-f6ff05cd21e7",
   "metadata": {},
   "outputs": [
    {
     "data": {
      "text/plain": [
       "torch.Size([1, 3, 64, 64])"
      ]
     },
     "execution_count": 42,
     "metadata": {},
     "output_type": "execute_result"
    }
   ],
   "source": [
    "img_batch, batch_label=next(iter(train_dataloader))\n",
    "img_single, label_single=img_batch[0].unsqueeze(dim=0), batch_label[0]\n",
    "img_single.shape"
   ]
  },
  {
   "cell_type": "code",
   "execution_count": 43,
   "id": "e5112385-53df-4888-9e41-63a4fcd7cf6b",
   "metadata": {},
   "outputs": [
    {
     "name": "stdout",
     "output_type": "stream",
     "text": [
      "Epochs : 1 | Train_loss : 18.876107 | Train_acc : 0.3984 | Test_loss : 8.6020 | Test_acc : 0.3542\n",
      "Epochs : 2 | Train_loss : 8.755274 | Train_acc : 0.6211 | Test_loss : 3.8647 | Test_acc : 0.4062\n",
      "Epochs : 3 | Train_loss : 4.816482 | Train_acc : 0.4570 | Test_loss : 3.5144 | Test_acc : 0.3646\n",
      "Epochs : 4 | Train_loss : 3.298657 | Train_acc : 0.6602 | Test_loss : 3.4693 | Test_acc : 0.3854\n",
      "Epochs : 5 | Train_loss : 2.243684 | Train_acc : 0.6172 | Test_loss : 2.0363 | Test_acc : 0.4062\n",
      "Epochs : 6 | Train_loss : 1.582542 | Train_acc : 0.6797 | Test_loss : 1.6836 | Test_acc : 0.5521\n",
      "Epochs : 7 | Train_loss : 1.274980 | Train_acc : 0.6836 | Test_loss : 2.0631 | Test_acc : 0.4375\n",
      "Epochs : 8 | Train_loss : 1.233623 | Train_acc : 0.6094 | Test_loss : 1.5181 | Test_acc : 0.5104\n",
      "Epochs : 9 | Train_loss : 1.324235 | Train_acc : 0.6875 | Test_loss : 2.1477 | Test_acc : 0.4688\n",
      "Epochs : 10 | Train_loss : 1.171402 | Train_acc : 0.7070 | Test_loss : 2.5469 | Test_acc : 0.4062\n"
     ]
    }
   ],
   "source": [
    "torch.manual_seed(42)\n",
    "\n",
    "model_2= ImprovedVGG(input_shape=3,\n",
    "                     hidden_units=64,\n",
    "                     output_shape=len(train_data.classes))\n",
    "\n",
    "loss_fn = torch.nn.CrossEntropyLoss()\n",
    "optimizer = torch.optim.Adam(model_2.parameters(), lr=0.001, weight_decay=1e-4)\n",
    "\n",
    "\n",
    "results = train(model=model_2,\n",
    "                train_dataloader=train_dataloader,\n",
    "                test_dataloader=test_dataloader,\n",
    "                loss_fn=loss_fn,\n",
    "                optimizer=optimizer,\n",
    "                epochs=10)"
   ]
  },
  {
   "cell_type": "code",
   "execution_count": null,
   "id": "d309af71-b3bd-44c9-81ba-e7331ec4e92d",
   "metadata": {},
   "outputs": [],
   "source": []
  },
  {
   "cell_type": "code",
   "execution_count": 44,
   "id": "a280b632-ad01-4ef0-9450-ff048201457e",
   "metadata": {},
   "outputs": [],
   "source": [
    "import torch\n",
    "import torch.nn as nn\n",
    "import torch.optim as optim\n",
    "from torch.optim.lr_scheduler import ReduceLROnPlateau\n",
    "from torchvision import transforms, datasets\n",
    "from torch.utils.data import DataLoader\n",
    "from torchvision.transforms import InterpolationMode\n",
    "import numpy as np\n",
    "\n",
    "#Augmentation\n",
    "train_transform = transforms.Compose([transforms.Resize((64, 64),interpolation=InterpolationMode.BILINEAR),\n",
    "                                      transforms.RandomHorizontalFlip(p=0.5),\n",
    "                                      transforms.RandomRotation(10),\n",
    "                                      transforms.ToTensor(),\n",
    "                                      transforms.Normalize(mean=[0.5, 0.5, 0.5], std=[0.5, 0.5, 0.5])\n",
    "                                     ])\n",
    "\n",
    "test_transform = transforms.Compose([transforms.Resize((64, 64),interpolation=InterpolationMode.BILINEAR),\n",
    "                                     transforms.ToTensor(),\n",
    "                                     transforms.Normalize(mean=[0.5, 0.5, 0.5], std=[0.5, 0.5, 0.5])\n",
    "                                    ])"
   ]
  },
  {
   "cell_type": "code",
   "execution_count": 45,
   "id": "5bc23b61-5c79-4e87-bc0c-65a46b2ca037",
   "metadata": {},
   "outputs": [
    {
     "name": "stdout",
     "output_type": "stream",
     "text": [
      "Train dataset: 225 images\n",
      "Test dataset: 80 images\n",
      "Classes: ['pizza', 'steak', 'sushi']\n"
     ]
    }
   ],
   "source": [
    "#Load Dataset\n",
    "train_dataset = datasets.ImageFolder(root=train_dir,\n",
    "                                     transform=train_transform)\n",
    "\n",
    "test_dataset = datasets.ImageFolder(root=test_dir,\n",
    "                                    transform=test_transform)\n",
    "\n",
    "train_loader = DataLoader(train_dataset,\n",
    "                          batch_size=64,\n",
    "                          shuffle=True,\n",
    "                          num_workers=2)\n",
    "\n",
    "test_loader = DataLoader(test_dataset,\n",
    "                         batch_size=64,\n",
    "                         shuffle=False,\n",
    "                         num_workers=2)\n",
    "\n",
    "print(f\"Train dataset: {len(train_dataset)} images\")\n",
    "print(f\"Test dataset: {len(test_dataset)} images\")\n",
    "print(f\"Classes: {train_dataset.classes}\")"
   ]
  },
  {
   "cell_type": "code",
   "execution_count": 46,
   "id": "c7881283-b9cf-4c3d-8f8b-ed604b82d05b",
   "metadata": {},
   "outputs": [],
   "source": [
    "# Model\n",
    "class ImprovedVGG(nn.Module):\n",
    "    def __init__(self, input_shape, hidden_units, output_shape):\n",
    "        super().__init__()\n",
    "        self.conv_block_1 = nn.Sequential(\n",
    "            nn.Conv2d(in_channels=input_shape, out_channels=hidden_units, kernel_size=3, stride=1, padding=1),\n",
    "            nn.BatchNorm2d(hidden_units, momentum=0.1),\n",
    "            nn.LeakyReLU(0.1),\n",
    "            nn.Conv2d(in_channels=hidden_units, out_channels=hidden_units, kernel_size=3, stride=1, padding=1),\n",
    "            nn.BatchNorm2d(hidden_units, momentum=0.1),\n",
    "            nn.LeakyReLU(0.1),\n",
    "            nn.MaxPool2d(kernel_size=2, stride=2)\n",
    "        )\n",
    "\n",
    "        self.conv_block_2 = nn.Sequential(\n",
    "            nn.Conv2d(in_channels=hidden_units, out_channels=hidden_units * 2, kernel_size=3, stride=1, padding=1),\n",
    "            nn.BatchNorm2d(hidden_units * 2, momentum=0.1),\n",
    "            nn.LeakyReLU(0.1),\n",
    "            nn.Conv2d(in_channels=hidden_units * 2, out_channels=hidden_units * 2, kernel_size=3, stride=1, padding=1),\n",
    "            nn.BatchNorm2d(hidden_units * 2, momentum=0.1),\n",
    "            nn.LeakyReLU(0.1),\n",
    "            nn.MaxPool2d(kernel_size=2, stride=2)\n",
    "        )\n",
    "\n",
    "        self.flatten = nn.Flatten()\n",
    "        flattened_size = self._get_flattened_size((3, 64, 64), hidden_units)\n",
    "        self.fc1 = nn.Linear(flattened_size, 512)\n",
    "        self.fc2 = nn.Linear(512, output_shape)\n",
    "        self.dropout = nn.Dropout(0.6)  # Increased dropout to prevent overfitting\n",
    "        self.leaky_relu = nn.LeakyReLU(0.1)\n",
    "\n",
    "    def _get_flattened_size(self, input_shape, hidden_units):\n",
    "        \"\"\" Forward pass a dummy tensor to calculate the flattened size dynamically. \"\"\"\n",
    "        with torch.no_grad():\n",
    "            x = torch.zeros(1, *input_shape)\n",
    "            x = self.conv_block_1(x)\n",
    "            x = self.conv_block_2(x)\n",
    "            return x.view(1, -1).shape[1]\n",
    "\n",
    "    def forward(self, x):\n",
    "        x = self.conv_block_1(x)\n",
    "        x = self.conv_block_2(x)\n",
    "        x = self.flatten(x)\n",
    "        x = self.fc1(x)\n",
    "        x = self.leaky_relu(x)\n",
    "        x = self.dropout(x)\n",
    "        x = self.fc2(x)\n",
    "        return x"
   ]
  },
  {
   "cell_type": "code",
   "execution_count": 47,
   "id": "04dbc283-7a58-4f75-bf0c-d3707404b5c7",
   "metadata": {},
   "outputs": [],
   "source": [
    "# Model Initialization\n",
    "model = ImprovedVGG(input_shape=3, hidden_units=64, output_shape=len(train_dataset.classes))\n",
    "\n",
    "# Loss Function & Optimizer\n",
    "criterion = nn.CrossEntropyLoss()\n",
    "optimizer = optim.Adam(model.parameters(), lr=0.0005, weight_decay=1e-4)\n",
    "scheduler = ReduceLROnPlateau(optimizer, mode='min', factor=0.5, patience=3)"
   ]
  },
  {
   "cell_type": "code",
   "execution_count": 48,
   "id": "8b176d74-0477-44a5-ac13-5eacffb88912",
   "metadata": {},
   "outputs": [],
   "source": [
    "#Training Function\n",
    "def train_step(model, dataloader, loss_fn, optimizer):\n",
    "    model.train()\n",
    "    total_loss, correct = 0.0, 0\n",
    "    total_samples = 0\n",
    "\n",
    "    for X, y in dataloader:\n",
    "        optimizer.zero_grad()\n",
    "        preds = model(X)\n",
    "        loss = loss_fn(preds, y)\n",
    "        loss.backward()\n",
    "        optimizer.step()\n",
    "\n",
    "        total_loss += loss.item() * X.size(0)\n",
    "        correct += (preds.argmax(dim=1) == y).sum().item()\n",
    "        total_samples += X.size(0)\n",
    "\n",
    "    return total_loss / total_samples, correct / total_samples"
   ]
  },
  {
   "cell_type": "code",
   "execution_count": 50,
   "id": "4eb62e36-ad3a-467b-80e4-658cdde5f8d5",
   "metadata": {},
   "outputs": [],
   "source": [
    "#Evaluation Function\n",
    "def test_step(model, dataloader, loss_fn):\n",
    "    model.eval()\n",
    "    total_loss, correct = 0.0, 0\n",
    "    total_samples = 0\n",
    "\n",
    "    with torch.no_grad():\n",
    "        for X, y in dataloader:\n",
    "            preds = model(X)\n",
    "            loss = loss_fn(preds, y)\n",
    "            total_loss += loss.item() * X.size(0)\n",
    "            correct += (preds.argmax(dim=1) == y).sum().item()\n",
    "            total_samples += X.size(0)\n",
    "\n",
    "    return total_loss / total_samples, correct / total_samples"
   ]
  },
  {
   "cell_type": "code",
   "execution_count": 52,
   "id": "2d1ff80b-4004-416d-a039-40ab194f9132",
   "metadata": {},
   "outputs": [
    {
     "name": "stdout",
     "output_type": "stream",
     "text": [
      "Epoch 1 | Train Loss: 0.6899 | Train Acc: 0.7333 | Test Loss: 1.0003 | Test Acc: 0.5750\n",
      "Epoch 2 | Train Loss: 0.7192 | Train Acc: 0.7022 | Test Loss: 1.0025 | Test Acc: 0.5625\n",
      "Epoch 3 | Train Loss: 0.7073 | Train Acc: 0.7022 | Test Loss: 1.0138 | Test Acc: 0.5750\n",
      "Epoch 4 | Train Loss: 0.7757 | Train Acc: 0.6933 | Test Loss: 1.0182 | Test Acc: 0.5750\n",
      "Epoch 5 | Train Loss: 0.6871 | Train Acc: 0.7422 | Test Loss: 1.0120 | Test Acc: 0.5625\n",
      "Epoch 6 | Train Loss: 0.6350 | Train Acc: 0.7378 | Test Loss: 1.0043 | Test Acc: 0.5625\n",
      "Early stopping triggered!\n",
      "Training completed!\n"
     ]
    }
   ],
   "source": [
    "best_test_loss = np.inf\n",
    "patience, counter = 5, 0\n",
    "\n",
    "for epoch in range(7):\n",
    "    train_loss, train_acc = train_step(model, train_loader, criterion, optimizer)\n",
    "    test_loss, test_acc = test_step(model, test_loader, criterion)\n",
    "\n",
    "    # Reduce LR if test loss doesn't improve\n",
    "    scheduler.step(test_loss)\n",
    "    print(f\"Epoch {epoch+1} | Train Loss: {train_loss:.4f} | Train Acc: {train_acc:.4f} | Test Loss: {test_loss:.4f} | Test Acc: {test_acc:.4f}\")\n",
    "\n",
    "    # Early Stopping\n",
    "    if test_loss < best_test_loss:\n",
    "        best_test_loss = test_loss\n",
    "        counter = 0  # Reset patience\n",
    "    else:\n",
    "        counter += 1\n",
    "        if counter >= patience:\n",
    "            print(\"Early stopping triggered!\")\n",
    "            break  # Stop training\n",
    "\n",
    "print(\"Training completed!\")"
   ]
  },
  {
   "cell_type": "code",
   "execution_count": 53,
   "id": "aca25532-aa5f-4804-a4f5-9434a8efc3f4",
   "metadata": {},
   "outputs": [
    {
     "name": "stdout",
     "output_type": "stream",
     "text": [
      "Epoch 1 | Train Loss: 0.7152 | Train Acc: 0.7111 | Test Loss: 0.9969 | Test Acc: 0.5750\n",
      "Epoch 2 | Train Loss: 0.6635 | Train Acc: 0.7600 | Test Loss: 0.9936 | Test Acc: 0.5750\n",
      "Epoch 3 | Train Loss: 0.7019 | Train Acc: 0.7200 | Test Loss: 0.9946 | Test Acc: 0.5750\n",
      "Epoch 4 | Train Loss: 0.6438 | Train Acc: 0.7422 | Test Loss: 0.9959 | Test Acc: 0.5750\n",
      "Epoch 5 | Train Loss: 0.6648 | Train Acc: 0.7200 | Test Loss: 1.0009 | Test Acc: 0.6125\n",
      "Epoch 6 | Train Loss: 0.6749 | Train Acc: 0.7333 | Test Loss: 1.0017 | Test Acc: 0.6125\n",
      "Epoch 7 | Train Loss: 0.6982 | Train Acc: 0.7467 | Test Loss: 1.0054 | Test Acc: 0.6125\n",
      "Early stopping triggered!\n",
      "Training completed!\n"
     ]
    }
   ],
   "source": [
    "best_test_loss =np.inf\n",
    "patience, counter = 5, 0\n",
    "\n",
    "# Lists to store loss and accuracy for plotting\n",
    "train_losses = []\n",
    "train_accuracies = []\n",
    "test_losses = []\n",
    "test_accuracies = []\n",
    "\n",
    "for epoch in range(7):\n",
    "    train_loss, train_acc = train_step(model,\n",
    "                                       train_loader,\n",
    "                                       criterion,\n",
    "                                       optimizer)\n",
    "    test_loss, test_acc = test_step(model,\n",
    "                                    test_loader,\n",
    "                                    criterion)\n",
    "    \n",
    "    train_losses.append(train_loss)\n",
    "    train_accuracies.append(train_acc)\n",
    "    test_losses.append(test_loss)\n",
    "    test_accuracies.append(test_acc)\n",
    "    scheduler.step(test_loss)\n",
    "    print(f\"Epoch {epoch+1} | Train Loss: {train_loss:.4f} | Train Acc: {train_acc:.4f} | Test Loss: {test_loss:.4f} | Test Acc: {test_acc:.4f}\")\n",
    "\n",
    "    # Early Stopping\n",
    "    if test_loss < best_test_loss:\n",
    "        best_test_loss = test_loss\n",
    "        counter = 0\n",
    "    else:\n",
    "        counter += 1\n",
    "        if counter >= patience:\n",
    "            print(\"Early stopping triggered!\")\n",
    "            break\n",
    "print(\"Training completed!\")"
   ]
  }
 ],
 "metadata": {
  "kernelspec": {
   "display_name": "Python 3 (ipykernel)",
   "language": "python",
   "name": "python3"
  },
  "language_info": {
   "codemirror_mode": {
    "name": "ipython",
    "version": 3
   },
   "file_extension": ".py",
   "mimetype": "text/x-python",
   "name": "python",
   "nbconvert_exporter": "python",
   "pygments_lexer": "ipython3",
   "version": "3.13.1"
  }
 },
 "nbformat": 4,
 "nbformat_minor": 5
}
