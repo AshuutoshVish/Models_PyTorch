{
 "cells": [
  {
   "cell_type": "code",
   "execution_count": 1,
   "id": "48156123-4ff9-4cc0-9b8d-cafc29049d09",
   "metadata": {},
   "outputs": [],
   "source": [
    "#Improving Previous Model Accuracy"
   ]
  },
  {
   "cell_type": "code",
   "execution_count": 67,
   "id": "a0cae455-b9e1-4178-9b74-019496e4a587",
   "metadata": {},
   "outputs": [],
   "source": [
    "import os\n",
    "import zipfile\n",
    "import requests\n",
    "import torchvision\n",
    "from pathlib import Path\n",
    "from torchvision import datasets, transforms\n",
    "from torch.utils.data import DataLoader\n",
    "import torch\n",
    "from torch import nn\n",
    "from typing import Dict, List, Tuple\n",
    "import pandas as pd\n",
    "import matplotlib.pyplot as plt"
   ]
  },
  {
   "cell_type": "code",
   "execution_count": 3,
   "id": "0cdff6dd-c377-4e6a-b37c-99dc9f9427a0",
   "metadata": {},
   "outputs": [
    {
     "name": "stdout",
     "output_type": "stream",
     "text": [
      "Food\\pizza_steak_sushi already exist.\n",
      "downloading data\n",
      "Unzipping food data\n"
     ]
    }
   ],
   "source": [
    "data_path= Path(\"Food/\")\n",
    "image_path= data_path/\"pizza_steak_sushi\"\n",
    "\n",
    "if image_path.is_dir():\n",
    "    print(f\"{image_path} already exist.\")\n",
    "else:\n",
    "    image_path.mkdir(parents=True, exist_ok=True)\n",
    "    \n",
    "\n",
    "with open(data_path/\"pizza_steak_sushi.zip\", 'wb') as f:\n",
    "    request = requests.get(\"https://github.com/mrdbourke/pytorch-deep-learning/raw/main/data/pizza_steak_sushi.zip\")\n",
    "    print('downloading data')\n",
    "    f.write(request.content)\n",
    "        \n",
    "with zipfile.ZipFile(data_path/\"pizza_steak_sushi.zip\", \"r\") as zip_ref:\n",
    "    print('Unzipping food data')\n",
    "    zip_ref.extractall(image_path)"
   ]
  },
  {
   "cell_type": "code",
   "execution_count": 4,
   "id": "52d8851a-5cc1-44fd-8999-32dee269e5a8",
   "metadata": {},
   "outputs": [],
   "source": [
    "#removing zip file\n",
    "os.remove(data_path / \"pizza_steak_sushi.zip\")"
   ]
  },
  {
   "cell_type": "code",
   "execution_count": 5,
   "id": "33267a77-00fb-4114-b2cc-c3b5c9aca05f",
   "metadata": {},
   "outputs": [],
   "source": [
    "#training and testing pth\n",
    "train_dir=image_path/'train'\n",
    "test_dir=image_path/'test'"
   ]
  },
  {
   "cell_type": "code",
   "execution_count": 6,
   "id": "dd99e080-9f55-47cb-b468-a7319f37a900",
   "metadata": {},
   "outputs": [
    {
     "data": {
      "text/plain": [
       "(WindowsPath('Food/pizza_steak_sushi/train'),\n",
       " WindowsPath('Food/pizza_steak_sushi/test'))"
      ]
     },
     "execution_count": 6,
     "metadata": {},
     "output_type": "execute_result"
    }
   ],
   "source": [
    "train_dir, test_dir"
   ]
  },
  {
   "cell_type": "code",
   "execution_count": 7,
   "id": "4c1beda3-6328-4795-8b6f-1cee18efcc11",
   "metadata": {},
   "outputs": [
    {
     "data": {
      "text/plain": [
       "(Dataset ImageFolder\n",
       "     Number of datapoints: 225\n",
       "     Root location: Food\\pizza_steak_sushi\\train\n",
       "     StandardTransform\n",
       " Transform: Compose(\n",
       "                Resize(size=(64, 64), interpolation=bilinear, max_size=None, antialias=True)\n",
       "                ToTensor()\n",
       "            ),\n",
       " Dataset ImageFolder\n",
       "     Number of datapoints: 80\n",
       "     Root location: Food\\pizza_steak_sushi\\test\n",
       "     StandardTransform\n",
       " Transform: Compose(\n",
       "                Resize(size=(64, 64), interpolation=bilinear, max_size=None, antialias=True)\n",
       "                ToTensor()\n",
       "            ))"
      ]
     },
     "execution_count": 7,
     "metadata": {},
     "output_type": "execute_result"
    }
   ],
   "source": [
    "#import datasets, transform\n",
    "data_transform=transforms.Compose([transforms.Resize((64, 64)),\n",
    "                                   transforms.ToTensor()])\n",
    "\n",
    "train_data = datasets.ImageFolder(root=train_dir,\n",
    "                                  transform=data_transform,\n",
    "                                  target_transform=None)\n",
    "\n",
    "test_data = datasets.ImageFolder(root=test_dir, \n",
    "                                 transform=data_transform)\n",
    "\n",
    "train_data, test_data"
   ]
  },
  {
   "cell_type": "code",
   "execution_count": 8,
   "id": "14e04972-3809-4d8b-9f25-caf45358efef",
   "metadata": {},
   "outputs": [
    {
     "data": {
      "text/plain": [
       "['pizza', 'steak', 'sushi']"
      ]
     },
     "execution_count": 8,
     "metadata": {},
     "output_type": "execute_result"
    }
   ],
   "source": [
    "class_names=train_data.classes\n",
    "class_names"
   ]
  },
  {
   "cell_type": "code",
   "execution_count": 9,
   "id": "1d58c3dc-cf00-406d-87f6-00adb781fb27",
   "metadata": {},
   "outputs": [
    {
     "data": {
      "text/plain": [
       "{'pizza': 0, 'steak': 1, 'sushi': 2}"
      ]
     },
     "execution_count": 9,
     "metadata": {},
     "output_type": "execute_result"
    }
   ],
   "source": [
    "class_dict = train_data.class_to_idx\n",
    "class_dict"
   ]
  },
  {
   "cell_type": "code",
   "execution_count": 10,
   "id": "2767ded4-e9a7-4310-879a-3cd88202fcf2",
   "metadata": {},
   "outputs": [
    {
     "data": {
      "text/plain": [
       "(225, 80)"
      ]
     },
     "execution_count": 10,
     "metadata": {},
     "output_type": "execute_result"
    }
   ],
   "source": [
    "len(train_data), len(test_data)"
   ]
  },
  {
   "cell_type": "code",
   "execution_count": 11,
   "id": "ffda7d1a-2d6e-4560-9546-7ea00dde2657",
   "metadata": {},
   "outputs": [
    {
     "data": {
      "text/plain": [
       "(<torch.utils.data.dataloader.DataLoader at 0x27ff2720ec0>,\n",
       " <torch.utils.data.dataloader.DataLoader at 0x27fd6498550>)"
      ]
     },
     "execution_count": 11,
     "metadata": {},
     "output_type": "execute_result"
    }
   ],
   "source": [
    "# Turning Train and testing data into dataloaders\n",
    "train_dataloader= DataLoader(dataset=train_data,\n",
    "                             batch_size=1,\n",
    "                             num_workers=4,\n",
    "                             shuffle=True)\n",
    "\n",
    "test_dataloader= DataLoader(dataset=test_data,\n",
    "                            batch_size=1,\n",
    "                            num_workers=4,\n",
    "                            shuffle=False)\n",
    "train_dataloader, test_dataloader"
   ]
  },
  {
   "cell_type": "code",
   "execution_count": 12,
   "id": "8abe0fc9-8f53-4660-aee1-ef815888301c",
   "metadata": {},
   "outputs": [
    {
     "data": {
      "text/plain": [
       "(torch.Size([1, 3, 64, 64]), torch.Size([1]))"
      ]
     },
     "execution_count": 12,
     "metadata": {},
     "output_type": "execute_result"
    }
   ],
   "source": [
    "#checking\n",
    "img, label = next(iter(train_dataloader))\n",
    "\n",
    "img.shape, label.shape"
   ]
  },
  {
   "cell_type": "code",
   "execution_count": 13,
   "id": "3a6365ee-5f96-493e-a133-21268b75d520",
   "metadata": {},
   "outputs": [],
   "source": [
    "#Making Model"
   ]
  },
  {
   "cell_type": "code",
   "execution_count": 14,
   "id": "cc315ddc-cbfa-4d66-ae79-3c04c4e1624c",
   "metadata": {},
   "outputs": [],
   "source": [
    "class TinyVGG(nn.Module):\n",
    "    def __init__(self, input_shape:int, hidden_unit:int, output_shape:int)-> None:\n",
    "        super().__init__()\n",
    "        self.conv_bloc_1=nn.Sequential(nn.Conv2d(in_channels=input_shape,out_channels=hidden_unit,kernel_size=3, stride=1, padding=0),\n",
    "                                       nn.ReLU(),\n",
    "                                       nn.Conv2d(in_channels=hidden_unit, out_channels=hidden_unit, kernel_size=3, stride=1, padding=0),\n",
    "                                       nn.ReLU(),\n",
    "                                       nn.MaxPool2d(kernel_size=2, stride=2))\n",
    "        \n",
    "        self.conv_bloc_2=nn.Sequential(nn.Conv2d(hidden_unit, hidden_unit, kernel_size=3, padding=0),\n",
    "                                       nn.ReLU(),\n",
    "                                       nn.Conv2d(hidden_unit, hidden_unit, kernel_size=3, padding=0),\n",
    "                                       nn.ReLU(),\n",
    "                                       nn.MaxPool2d(2))\n",
    "        \n",
    "        self.classifier =nn.Sequential(nn.Flatten(),\n",
    "                                       nn.Linear(in_features=hidden_unit*13*13,out_features=output_shape)) #Hardcoded\n",
    "        \n",
    "    def forward(self, x:torch.tensor):\n",
    "        x=self.conv_bloc_1(x)\n",
    "        x=self.conv_bloc_2(x)\n",
    "        x=self.classifier(x)\n",
    "        return x"
   ]
  },
  {
   "cell_type": "code",
   "execution_count": 15,
   "id": "cd32fcfb-8449-4b46-8b93-d45b5b1bf455",
   "metadata": {},
   "outputs": [
    {
     "data": {
      "text/plain": [
       "TinyVGG(\n",
       "  (conv_bloc_1): Sequential(\n",
       "    (0): Conv2d(3, 10, kernel_size=(3, 3), stride=(1, 1))\n",
       "    (1): ReLU()\n",
       "    (2): Conv2d(10, 10, kernel_size=(3, 3), stride=(1, 1))\n",
       "    (3): ReLU()\n",
       "    (4): MaxPool2d(kernel_size=2, stride=2, padding=0, dilation=1, ceil_mode=False)\n",
       "  )\n",
       "  (conv_bloc_2): Sequential(\n",
       "    (0): Conv2d(10, 10, kernel_size=(3, 3), stride=(1, 1))\n",
       "    (1): ReLU()\n",
       "    (2): Conv2d(10, 10, kernel_size=(3, 3), stride=(1, 1))\n",
       "    (3): ReLU()\n",
       "    (4): MaxPool2d(kernel_size=2, stride=2, padding=0, dilation=1, ceil_mode=False)\n",
       "  )\n",
       "  (classifier): Sequential(\n",
       "    (0): Flatten(start_dim=1, end_dim=-1)\n",
       "    (1): Linear(in_features=1690, out_features=3, bias=True)\n",
       "  )\n",
       ")"
      ]
     },
     "execution_count": 15,
     "metadata": {},
     "output_type": "execute_result"
    }
   ],
   "source": [
    "torch.manual_seed(42)\n",
    "model_1=TinyVGG(input_shape=3, hidden_unit=10, output_shape=len(train_data.classes))\n",
    "model_1"
   ]
  },
  {
   "cell_type": "code",
   "execution_count": 16,
   "id": "579f0101-5d58-4496-b323-dc91fe4a525a",
   "metadata": {},
   "outputs": [],
   "source": [
    "# To test our model"
   ]
  },
  {
   "cell_type": "code",
   "execution_count": 17,
   "id": "85276a3b-1fd7-461e-8d4e-369c6cdce30f",
   "metadata": {},
   "outputs": [
    {
     "data": {
      "text/plain": [
       "torch.Size([1, 3, 64, 64])"
      ]
     },
     "execution_count": 17,
     "metadata": {},
     "output_type": "execute_result"
    }
   ],
   "source": [
    "img_batch, batch_label=next(iter(train_dataloader))\n",
    "img_single, label_single=img_batch[0].unsqueeze(dim=0), batch_label[0]\n",
    "img_single.shape"
   ]
  },
  {
   "cell_type": "code",
   "execution_count": 18,
   "id": "9075ac94-3a47-46a0-98c3-46251ffa1362",
   "metadata": {},
   "outputs": [
    {
     "name": "stdout",
     "output_type": "stream",
     "text": [
      "Output logits:\n",
      "tensor([[ 0.0208, -0.0020,  0.0095]])\n",
      "\n",
      "Output prediction probabilities:\n",
      "tensor([[0.3371, 0.3295, 0.3333]])\n",
      "\n",
      "Output prediction label:\n",
      "tensor([0])\n",
      "\n",
      "Actual label:\n",
      "0\n"
     ]
    }
   ],
   "source": [
    "model_1.eval()\n",
    "with torch.inference_mode():\n",
    "    pred=model_1(img_single)\n",
    "\n",
    "print(f\"Output logits:\\n{pred}\\n\")\n",
    "print(f\"Output prediction probabilities:\\n{torch.softmax(pred, dim=1)}\\n\")\n",
    "print(f\"Output prediction label:\\n{torch.argmax(torch.softmax(pred, dim=1), dim=1)}\\n\")\n",
    "print(f\"Actual label:\\n{label_single}\")"
   ]
  },
  {
   "cell_type": "code",
   "execution_count": 19,
   "id": "c38e3903-30f1-4d10-9c49-946f20bf393b",
   "metadata": {},
   "outputs": [],
   "source": [
    "#making train"
   ]
  },
  {
   "cell_type": "code",
   "execution_count": 20,
   "id": "9c50c03e-f2a8-45ec-9495-fd79f37fbfb3",
   "metadata": {},
   "outputs": [],
   "source": [
    "from typing import Tuple\n",
    "\n",
    "def train_step(model: torch.nn.Module,\n",
    "               dataloader:torch.utils.data.DataLoader,\n",
    "               loss_fn:torch.nn.Module,\n",
    "               optimizer: torch.optim.Optimizer)-> Tuple[float, float]:\n",
    "    model.train()\n",
    "    train_loss, train_acc=0,0\n",
    "\n",
    "    for batch, (X, y) in enumerate(dataloader):\n",
    "        y_pred = model(X)\n",
    "\n",
    "        loss=loss_fn(y_pred, y)\n",
    "        train_loss+=loss.item()\n",
    "\n",
    "        optimizer.zero_grad()\n",
    "        loss.backward()\n",
    "        optimizer.step()\n",
    "\n",
    "        y_pred_class=torch.argmax(torch.softmax(y_pred, dim=1), dim=1)\n",
    "        train_acc += (y_pred_class==y).sum().item()/len(y_pred)\n",
    "\n",
    "    # Adjusting metrics to get avg loss and accuracy\n",
    "    train_loss= train_loss/len(dataloader)\n",
    "    train_acc= train_acc/len(dataloader)\n",
    "\n",
    "    return train_loss, train_acc"
   ]
  },
  {
   "cell_type": "code",
   "execution_count": 21,
   "id": "77940673-a5a8-4242-b051-7e7cd1fd3d47",
   "metadata": {},
   "outputs": [],
   "source": [
    "def test_step(model: torch.nn.Module,\n",
    "              dataloader: torch.utils.data.DataLoader,\n",
    "              loss_fn:torch.nn.Module) -> Tuple[float, float]:\n",
    "    model.eval()\n",
    "    test_loss, test_acc = 0, 0\n",
    "    with torch.inference_mode():\n",
    "        for X, y in dataloader:\n",
    "            test_pred_logits = model(X)\n",
    "\n",
    "            loss=loss_fn(test_pred_logits, y)\n",
    "            test_loss+=loss.item()\n",
    "\n",
    "            test_pred_labels= test_pred_logits.argmax(dim=1)\n",
    "            test_acc += ((test_pred_labels==y).sum().item()/len(test_pred_labels))\n",
    "\n",
    "    test_loss=test_loss/len(dataloader)\n",
    "    test_acc=test_acc/len(dataloader)\n",
    "    return test_loss, test_acc\n",
    "        "
   ]
  },
  {
   "cell_type": "code",
   "execution_count": 22,
   "id": "8eb8bcc4-5e28-492c-9c53-cefd988619e9",
   "metadata": {},
   "outputs": [],
   "source": [
    "from typing import Dict\n",
    "def train(model:torch.nn.Module,\n",
    "          train_dataloader:torch.utils.data.DataLoader,\n",
    "          test_dataloader:torch.utils.data.DataLoader,\n",
    "          loss_fn: torch.nn.Module,\n",
    "          optimizer:torch.optim.Optimizer,\n",
    "          epochs:int)-> Dict[str, list[float]]:\n",
    "    # Creating Dictionary to store values\n",
    "    results={\"train_loss\": [],\n",
    "             \"train_acc\" : [],\n",
    "             \"test_loss\" : [],\n",
    "             \"test_acc\" : []}\n",
    "    \n",
    "    for epoch in range(epochs):\n",
    "        train_loss, train_acc= train_step(model=model,\n",
    "                                          dataloader=train_dataloader,\n",
    "                                          loss_fn=loss_fn,\n",
    "                                          optimizer=optimizer)\n",
    "                                          \n",
    "        test_loss, test_acc = test_step(model=model,\n",
    "                                        dataloader=test_dataloader,\n",
    "                                        loss_fn=loss_fn)\n",
    "        \n",
    "                                          \n",
    "        print(f\"Epochs : {epoch+1} | \"\n",
    "              f\"Train_loss : {train_loss :4f} | \"\n",
    "              f\"Train_acc : {train_acc:.4f} | \"\n",
    "              f\"Test_loss : {test_loss:.4f} | \"\n",
    "              f\"Test_acc : {test_acc:.4f}\")\n",
    "        results[\"train_loss\"].append(train_loss)\n",
    "        results[\"train_acc\"].append(train_acc)\n",
    "        results[\"test_loss\"].append(test_loss)\n",
    "        results[\"test_acc\"].append(test_acc)\n",
    "                                          \n",
    "    return results                                        "
   ]
  },
  {
   "cell_type": "code",
   "execution_count": 23,
   "id": "cf3dd04e-0474-474f-b858-0636f5860bd7",
   "metadata": {},
   "outputs": [
    {
     "name": "stdout",
     "output_type": "stream",
     "text": [
      "Epochs : 1 | Train_loss : 1.110057 | Train_acc : 0.4356 | Test_loss : 1.0576 | Test_acc : 0.4625\n",
      "Epochs : 2 | Train_loss : 1.031615 | Train_acc : 0.5067 | Test_loss : 0.9954 | Test_acc : 0.4625\n",
      "Epochs : 3 | Train_loss : 0.927079 | Train_acc : 0.6044 | Test_loss : 1.1414 | Test_acc : 0.4250\n",
      "Epochs : 4 | Train_loss : 0.893553 | Train_acc : 0.6089 | Test_loss : 1.0037 | Test_acc : 0.5000\n",
      "Epochs : 5 | Train_loss : 0.784474 | Train_acc : 0.6844 | Test_loss : 1.0178 | Test_acc : 0.4875\n",
      "Epochs : 6 | Train_loss : 1.010224 | Train_acc : 0.5556 | Test_loss : 1.1000 | Test_acc : 0.3500\n",
      "Epochs : 7 | Train_loss : 1.006519 | Train_acc : 0.5689 | Test_loss : 1.2052 | Test_acc : 0.5000\n",
      "Epochs : 8 | Train_loss : 0.842864 | Train_acc : 0.6800 | Test_loss : 1.0428 | Test_acc : 0.5000\n",
      "Epochs : 9 | Train_loss : 0.771160 | Train_acc : 0.6578 | Test_loss : 1.1351 | Test_acc : 0.4875\n",
      "Epochs : 10 | Train_loss : 0.672285 | Train_acc : 0.7556 | Test_loss : 1.1213 | Test_acc : 0.5375\n",
      "Epochs : 11 | Train_loss : 0.571750 | Train_acc : 0.7822 | Test_loss : 1.5191 | Test_acc : 0.5125\n",
      "Epochs : 12 | Train_loss : 0.482062 | Train_acc : 0.8044 | Test_loss : 1.3850 | Test_acc : 0.4625\n",
      "Epochs : 13 | Train_loss : 0.411340 | Train_acc : 0.8178 | Test_loss : 1.6784 | Test_acc : 0.4875\n",
      "Epochs : 14 | Train_loss : 0.295737 | Train_acc : 0.8844 | Test_loss : 2.5854 | Test_acc : 0.5250\n",
      "Epochs : 15 | Train_loss : 0.254208 | Train_acc : 0.9111 | Test_loss : 2.4766 | Test_acc : 0.4625\n"
     ]
    }
   ],
   "source": [
    "torch.manual_seed(42)\n",
    "\n",
    "model_1 = TinyVGG(input_shape=3,\n",
    "                  hidden_unit=64,\n",
    "                  output_shape=len(train_data.classes))\n",
    "\n",
    "loss_fn = torch.nn.CrossEntropyLoss()\n",
    "optimizer = torch.optim.Adam(model_1.parameters(), lr=0.001, weight_decay=1e-4)\n",
    "\n",
    "\n",
    "results = train(model=model_1,\n",
    "                train_dataloader=train_dataloader,\n",
    "                test_dataloader=test_dataloader,\n",
    "                loss_fn=loss_fn,\n",
    "                optimizer=optimizer,\n",
    "                epochs=15)"
   ]
  },
  {
   "cell_type": "code",
   "execution_count": 24,
   "id": "00080e03-929b-435e-aff5-d9fda61b2de4",
   "metadata": {},
   "outputs": [],
   "source": [
    "#Making a new model"
   ]
  },
  {
   "cell_type": "code",
   "execution_count": 58,
   "id": "fd126010-3a6c-4f32-9f41-12e14f9ce2f1",
   "metadata": {},
   "outputs": [],
   "source": [
    "train_transform = transforms.Compose([transforms.Resize((128, 128)),\n",
    "                                      transforms.RandomHorizontalFlip(p=0.5),\n",
    "                                      transforms.RandomAffine(degrees=0, translate=(0.1, 0.1)),  transforms.ToTensor()])\n",
    "test_transform = transforms.Compose([transforms.Resize((64, 64)),\n",
    "                                     transforms.ToTensor()])"
   ]
  },
  {
   "cell_type": "code",
   "execution_count": 59,
   "id": "1ba2f344-cfb0-43ca-8164-139064eda26e",
   "metadata": {},
   "outputs": [],
   "source": [
    "class ImprovedVGG(nn.Module):\n",
    "    def __init__(self, input_shape, hidden_units, output_shape):\n",
    "        super().__init__()\n",
    "        self.conv_block_1 = nn.Sequential(\n",
    "            nn.Conv2d(in_channels=input_shape, out_channels=hidden_units, kernel_size=3, stride=1, padding=0),\n",
    "            nn.ReLU(),\n",
    "            nn.Conv2d(in_channels=hidden_units, out_channels=hidden_units, kernel_size=3, stride=1, padding=0),\n",
    "            nn.ReLU(),\n",
    "            nn.MaxPool2d(kernel_size=2, stride=2)\n",
    "        )\n",
    "        self.conv_block_2 = nn.Sequential(\n",
    "            nn.Conv2d(in_channels=hidden_units, out_channels=hidden_units * 2, kernel_size=3, stride=1, padding=0),\n",
    "            nn.ReLU(),\n",
    "            nn.Conv2d(in_channels=hidden_units * 2, out_channels=hidden_units * 2, kernel_size=3, stride=1, padding=0),\n",
    "            nn.ReLU(),\n",
    "            nn.MaxPool2d(kernel_size=2, stride=2)\n",
    "        )\n",
    "\n",
    "        self.flatten = nn.Flatten()\n",
    "        self.fc1 = nn.Linear(self._get_flattened_size((3, 64, 64), hidden_units), 512)\n",
    "        self.fc2 = nn.Linear(512, output_shape)\n",
    "        self.dropout = nn.Dropout(0.5)\n",
    "        self.relu = nn.ReLU()\n",
    "\n",
    "    def _get_flattened_size(self, input_shape, hidden_units):\n",
    "        \"\"\" Forward pass a dummy tensor to calculate the flattened size dynamically. \"\"\"\n",
    "        with torch.no_grad():\n",
    "            x = torch.zeros(1, *input_shape)\n",
    "            x = self.conv_block_1(x)\n",
    "            x = self.conv_block_2(x)\n",
    "            return x.view(1, -1).shape[1]\n",
    "\n",
    "    def forward(self, x):\n",
    "        x = self.conv_block_1(x)\n",
    "        x = self.conv_block_2(x)\n",
    "        x = self.flatten(x)\n",
    "        x = self.fc1(x)\n",
    "        x = self.relu(x)\n",
    "        x = self.dropout(x)\n",
    "        x = self.fc2(x)\n",
    "        return x\n"
   ]
  },
  {
   "cell_type": "code",
   "execution_count": 60,
   "id": "becd3dee-c239-4e15-b87c-71c4259f8f61",
   "metadata": {},
   "outputs": [],
   "source": [
    "optimizer = torch.optim.Adam(model_1.parameters(), lr=0.01, weight_decay=1e-4)"
   ]
  },
  {
   "cell_type": "code",
   "execution_count": 61,
   "id": "b4f2dd91-6347-405e-bc82-18cb30b7a1c0",
   "metadata": {},
   "outputs": [],
   "source": [
    "from torch.utils.data.sampler import WeightedRandomSampler\n",
    "\n",
    "\n",
    "class_counts = torch.bincount(torch.tensor(train_data.targets))\n",
    "class_weights = 1.0 / class_counts\n",
    "sample_weights = class_weights[train_data.targets]\n",
    "sampler = WeightedRandomSampler(sample_weights, num_samples=len(sample_weights), replacement=True)\n",
    "train_loader = torch.utils.data.DataLoader(train_data, batch_size=32, sampler=sampler)"
   ]
  },
  {
   "cell_type": "code",
   "execution_count": 62,
   "id": "e7b0e513-5c58-4816-a5b4-54d1f38d9caf",
   "metadata": {},
   "outputs": [
    {
     "name": "stdout",
     "output_type": "stream",
     "text": [
      "Epochs : 1 | Train_loss : 38.116283 | Train_acc : 0.3422 | Test_loss : 1.0938 | Test_acc : 0.3875\n",
      "Epochs : 2 | Train_loss : 1.119109 | Train_acc : 0.2267 | Test_loss : 1.1083 | Test_acc : 0.2625\n",
      "Epochs : 3 | Train_loss : 1.110185 | Train_acc : 0.3556 | Test_loss : 1.1084 | Test_acc : 0.3500\n",
      "Epochs : 4 | Train_loss : 1.114920 | Train_acc : 0.2978 | Test_loss : 1.1019 | Test_acc : 0.3500\n",
      "Epochs : 5 | Train_loss : 1.105621 | Train_acc : 0.2800 | Test_loss : 1.1036 | Test_acc : 0.3500\n",
      "Epochs : 6 | Train_loss : 1.112897 | Train_acc : 0.3467 | Test_loss : 1.1100 | Test_acc : 0.2625\n",
      "Epochs : 7 | Train_loss : 1.222300 | Train_acc : 0.3778 | Test_loss : 27.2372 | Test_acc : 0.2625\n",
      "Epochs : 8 | Train_loss : 1.334374 | Train_acc : 0.3156 | Test_loss : 1.0971 | Test_acc : 0.3500\n",
      "Epochs : 9 | Train_loss : 1.111327 | Train_acc : 0.3200 | Test_loss : 1.0947 | Test_acc : 0.3500\n",
      "Epochs : 10 | Train_loss : 1.330876 | Train_acc : 0.3289 | Test_loss : 1.1150 | Test_acc : 0.3500\n"
     ]
    }
   ],
   "source": [
    "torch.manual_seed(42)\n",
    "model_2 = ImprovedVGG(input_shape=3, hidden_units=64, output_shape=len(train_data.classes))\n",
    "\n",
    "optimizer = torch.optim.Adam(model_2.parameters(), lr=0.01, weight_decay=1e-4)\n",
    "scheduler = torch.optim.lr_scheduler.StepLR(optimizer, step_size=5, gamma=0.5)\n",
    "loss_fn = nn.CrossEntropyLoss()\n",
    "\n",
    "results_2 = train(model_2,\n",
    "                train_dataloader,\n",
    "                test_dataloader,\n",
    "                loss_fn,\n",
    "                optimizer,\n",
    "                epochs=10)"
   ]
  },
  {
   "cell_type": "code",
   "execution_count": 63,
   "id": "58e7e171-6514-4e39-b9d5-40a5102a441d",
   "metadata": {},
   "outputs": [],
   "source": [
    "import pandas as pd\n",
    "model_1_df = pd.DataFrame(results)\n",
    "model_2_df = pd.DataFrame(results_2)"
   ]
  },
  {
   "cell_type": "code",
   "execution_count": 64,
   "id": "54abda76-5472-4e5c-addf-94816fda48f3",
   "metadata": {},
   "outputs": [
    {
     "data": {
      "text/html": [
       "<div>\n",
       "<style scoped>\n",
       "    .dataframe tbody tr th:only-of-type {\n",
       "        vertical-align: middle;\n",
       "    }\n",
       "\n",
       "    .dataframe tbody tr th {\n",
       "        vertical-align: top;\n",
       "    }\n",
       "\n",
       "    .dataframe thead th {\n",
       "        text-align: right;\n",
       "    }\n",
       "</style>\n",
       "<table border=\"1\" class=\"dataframe\">\n",
       "  <thead>\n",
       "    <tr style=\"text-align: right;\">\n",
       "      <th></th>\n",
       "      <th>train_loss</th>\n",
       "      <th>train_acc</th>\n",
       "      <th>test_loss</th>\n",
       "      <th>test_acc</th>\n",
       "    </tr>\n",
       "  </thead>\n",
       "  <tbody>\n",
       "    <tr>\n",
       "      <th>0</th>\n",
       "      <td>1.110057</td>\n",
       "      <td>0.435556</td>\n",
       "      <td>1.057576</td>\n",
       "      <td>0.4625</td>\n",
       "    </tr>\n",
       "    <tr>\n",
       "      <th>1</th>\n",
       "      <td>1.031615</td>\n",
       "      <td>0.506667</td>\n",
       "      <td>0.995352</td>\n",
       "      <td>0.4625</td>\n",
       "    </tr>\n",
       "    <tr>\n",
       "      <th>2</th>\n",
       "      <td>0.927079</td>\n",
       "      <td>0.604444</td>\n",
       "      <td>1.141395</td>\n",
       "      <td>0.4250</td>\n",
       "    </tr>\n",
       "    <tr>\n",
       "      <th>3</th>\n",
       "      <td>0.893553</td>\n",
       "      <td>0.608889</td>\n",
       "      <td>1.003670</td>\n",
       "      <td>0.5000</td>\n",
       "    </tr>\n",
       "    <tr>\n",
       "      <th>4</th>\n",
       "      <td>0.784474</td>\n",
       "      <td>0.684444</td>\n",
       "      <td>1.017831</td>\n",
       "      <td>0.4875</td>\n",
       "    </tr>\n",
       "    <tr>\n",
       "      <th>5</th>\n",
       "      <td>1.010224</td>\n",
       "      <td>0.555556</td>\n",
       "      <td>1.099974</td>\n",
       "      <td>0.3500</td>\n",
       "    </tr>\n",
       "    <tr>\n",
       "      <th>6</th>\n",
       "      <td>1.006519</td>\n",
       "      <td>0.568889</td>\n",
       "      <td>1.205216</td>\n",
       "      <td>0.5000</td>\n",
       "    </tr>\n",
       "    <tr>\n",
       "      <th>7</th>\n",
       "      <td>0.842864</td>\n",
       "      <td>0.680000</td>\n",
       "      <td>1.042808</td>\n",
       "      <td>0.5000</td>\n",
       "    </tr>\n",
       "    <tr>\n",
       "      <th>8</th>\n",
       "      <td>0.771160</td>\n",
       "      <td>0.657778</td>\n",
       "      <td>1.135122</td>\n",
       "      <td>0.4875</td>\n",
       "    </tr>\n",
       "    <tr>\n",
       "      <th>9</th>\n",
       "      <td>0.672285</td>\n",
       "      <td>0.755556</td>\n",
       "      <td>1.121269</td>\n",
       "      <td>0.5375</td>\n",
       "    </tr>\n",
       "    <tr>\n",
       "      <th>10</th>\n",
       "      <td>0.571750</td>\n",
       "      <td>0.782222</td>\n",
       "      <td>1.519053</td>\n",
       "      <td>0.5125</td>\n",
       "    </tr>\n",
       "    <tr>\n",
       "      <th>11</th>\n",
       "      <td>0.482062</td>\n",
       "      <td>0.804444</td>\n",
       "      <td>1.384993</td>\n",
       "      <td>0.4625</td>\n",
       "    </tr>\n",
       "    <tr>\n",
       "      <th>12</th>\n",
       "      <td>0.411340</td>\n",
       "      <td>0.817778</td>\n",
       "      <td>1.678396</td>\n",
       "      <td>0.4875</td>\n",
       "    </tr>\n",
       "    <tr>\n",
       "      <th>13</th>\n",
       "      <td>0.295737</td>\n",
       "      <td>0.884444</td>\n",
       "      <td>2.585404</td>\n",
       "      <td>0.5250</td>\n",
       "    </tr>\n",
       "    <tr>\n",
       "      <th>14</th>\n",
       "      <td>0.254208</td>\n",
       "      <td>0.911111</td>\n",
       "      <td>2.476585</td>\n",
       "      <td>0.4625</td>\n",
       "    </tr>\n",
       "  </tbody>\n",
       "</table>\n",
       "</div>"
      ],
      "text/plain": [
       "    train_loss  train_acc  test_loss  test_acc\n",
       "0     1.110057   0.435556   1.057576    0.4625\n",
       "1     1.031615   0.506667   0.995352    0.4625\n",
       "2     0.927079   0.604444   1.141395    0.4250\n",
       "3     0.893553   0.608889   1.003670    0.5000\n",
       "4     0.784474   0.684444   1.017831    0.4875\n",
       "5     1.010224   0.555556   1.099974    0.3500\n",
       "6     1.006519   0.568889   1.205216    0.5000\n",
       "7     0.842864   0.680000   1.042808    0.5000\n",
       "8     0.771160   0.657778   1.135122    0.4875\n",
       "9     0.672285   0.755556   1.121269    0.5375\n",
       "10    0.571750   0.782222   1.519053    0.5125\n",
       "11    0.482062   0.804444   1.384993    0.4625\n",
       "12    0.411340   0.817778   1.678396    0.4875\n",
       "13    0.295737   0.884444   2.585404    0.5250\n",
       "14    0.254208   0.911111   2.476585    0.4625"
      ]
     },
     "execution_count": 64,
     "metadata": {},
     "output_type": "execute_result"
    }
   ],
   "source": [
    "model_1_d"
   ]
  },
  {
   "cell_type": "code",
   "execution_count": 66,
   "id": "c30f30d9-d877-41ea-b131-2e2ac1d3d25e",
   "metadata": {},
   "outputs": [
    {
     "data": {
      "image/png": "[encoded data removed]",
      "text/plain": [
       "<Figure size 800x600 with 1 Axes>"
      ]
     },
     "metadata": {},
     "output_type": "display_data"
    }
   ],
   "source": [
    "model_1_df = pd.DataFrame(results)\n",
    "\n",
    "plt.figure(figsize=(8,6))\n",
    "plt.plot(model_1_df[\"train_loss\"], label=\"Train Loss\", marker=\"o\", linestyle=\"-\")\n",
    "plt.plot(model_1_df[\"test_loss\"], label=\"Test Loss\", marker=\"s\", linestyle=\"--\")\n",
    "\n",
    "plt.xlabel(\"Epochs\")\n",
    "plt.ylabel(\"Loss\")\n",
    "plt.title(\"Train vs Test Loss Curve\")\n",
    "plt.legend()\n",
    "plt.grid(True)\n",
    "plt.show()\n"
   ]
  }
 ],
 "metadata": {
  "kernelspec": {
   "display_name": "Python 3 (ipykernel)",
   "language": "python",
   "name": "python3"
  },
  "language_info": {
   "codemirror_mode": {
    "name": "ipython",
    "version": 3
   },
   "file_extension": ".py",
   "mimetype": "text/x-python",
   "name": "python",
   "nbconvert_exporter": "python",
   "pygments_lexer": "ipython3",
   "version": "3.13.1"
  }
 },
 "nbformat": 4,
 "nbformat_minor": 5
}
